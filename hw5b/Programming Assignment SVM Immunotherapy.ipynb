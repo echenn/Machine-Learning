{
 "cells": [
  {
   "cell_type": "markdown",
   "metadata": {},
   "source": [
    "# Programming Assignment : SVM\n",
    "In this programming assignment, you would use Support Vector Machines and Logistic Regression\n",
    "for classification problem. We are using Logistic Regression to compare performance of both the algorithms on the same dataset with different values of parameters like type of kernel used, type of regularization techniques used (ridge/lasso) etc."
   ]
  },
  {
   "cell_type": "markdown",
   "metadata": {},
   "source": [
    "Do the assignment carefully, by understanding the structure of the code."
   ]
  },
  {
   "cell_type": "markdown",
   "metadata": {},
   "source": [
    "# Instructions :\n",
    "You have to write a small report in a pdf file. You can use bullet points to discuss your results for every function of the assignment.<br>\n",
    "For example, for data1.csv dataset, write which method gave you the best accuracy using which value of the parameter.<br>\n",
    "Do not write explainations, just discuss your results / observations point to point. \n"
   ]
  },
  {
   "cell_type": "code",
   "execution_count": 2,
   "metadata": {
    "collapsed": true
   },
   "outputs": [],
   "source": [
    "# Importing the libraries to be used:\n",
    "import numpy as np\n",
    "import pandas as pd\n",
    "from sklearn import linear_model\n",
    "from sklearn import svm\n",
    "import matplotlib.pyplot as plt\n",
    "%matplotlib inline "
   ]
  },
  {
   "cell_type": "markdown",
   "metadata": {},
   "source": [
    "# Importing the dataset:\n",
    "The dataset we are using for this assignment is taken from UCI Machine Learning Repository. The dataset consists of Attributes/Factors that contribute to prediction of Diabetic Retinopathy(DR) in a diabetic patient. Given some predictors, we need to predict the value of target variable i.e. DR or Non-DR case. The dataset is given in the file data1.csv  "
   ]
  },
  {
   "cell_type": "code",
   "execution_count": 3,
   "metadata": {},
   "outputs": [
    {
     "data": {
      "text/html": [
       "<div>\n",
       "<style>\n",
       "    .dataframe thead tr:only-child th {\n",
       "        text-align: right;\n",
       "    }\n",
       "\n",
       "    .dataframe thead th {\n",
       "        text-align: left;\n",
       "    }\n",
       "\n",
       "    .dataframe tbody tr th {\n",
       "        vertical-align: top;\n",
       "    }\n",
       "</style>\n",
       "<table border=\"1\" class=\"dataframe\">\n",
       "  <thead>\n",
       "    <tr style=\"text-align: right;\">\n",
       "      <th></th>\n",
       "      <th>sex</th>\n",
       "      <th>age</th>\n",
       "      <th>Time</th>\n",
       "      <th>Number_of_Warts</th>\n",
       "      <th>Type</th>\n",
       "      <th>Area</th>\n",
       "      <th>induration_diameter</th>\n",
       "      <th>Result_of_Treatment</th>\n",
       "    </tr>\n",
       "  </thead>\n",
       "  <tbody>\n",
       "    <tr>\n",
       "      <th>0</th>\n",
       "      <td>1</td>\n",
       "      <td>22</td>\n",
       "      <td>2.25</td>\n",
       "      <td>14</td>\n",
       "      <td>3</td>\n",
       "      <td>51</td>\n",
       "      <td>50</td>\n",
       "      <td>1</td>\n",
       "    </tr>\n",
       "    <tr>\n",
       "      <th>1</th>\n",
       "      <td>1</td>\n",
       "      <td>15</td>\n",
       "      <td>3.00</td>\n",
       "      <td>2</td>\n",
       "      <td>3</td>\n",
       "      <td>900</td>\n",
       "      <td>70</td>\n",
       "      <td>1</td>\n",
       "    </tr>\n",
       "    <tr>\n",
       "      <th>2</th>\n",
       "      <td>1</td>\n",
       "      <td>16</td>\n",
       "      <td>10.50</td>\n",
       "      <td>2</td>\n",
       "      <td>1</td>\n",
       "      <td>100</td>\n",
       "      <td>25</td>\n",
       "      <td>1</td>\n",
       "    </tr>\n",
       "    <tr>\n",
       "      <th>3</th>\n",
       "      <td>1</td>\n",
       "      <td>27</td>\n",
       "      <td>4.50</td>\n",
       "      <td>9</td>\n",
       "      <td>3</td>\n",
       "      <td>80</td>\n",
       "      <td>30</td>\n",
       "      <td>1</td>\n",
       "    </tr>\n",
       "    <tr>\n",
       "      <th>4</th>\n",
       "      <td>1</td>\n",
       "      <td>20</td>\n",
       "      <td>8.00</td>\n",
       "      <td>6</td>\n",
       "      <td>1</td>\n",
       "      <td>45</td>\n",
       "      <td>8</td>\n",
       "      <td>1</td>\n",
       "    </tr>\n",
       "    <tr>\n",
       "      <th>5</th>\n",
       "      <td>1</td>\n",
       "      <td>15</td>\n",
       "      <td>5.00</td>\n",
       "      <td>3</td>\n",
       "      <td>3</td>\n",
       "      <td>84</td>\n",
       "      <td>7</td>\n",
       "      <td>1</td>\n",
       "    </tr>\n",
       "    <tr>\n",
       "      <th>6</th>\n",
       "      <td>1</td>\n",
       "      <td>35</td>\n",
       "      <td>9.75</td>\n",
       "      <td>2</td>\n",
       "      <td>2</td>\n",
       "      <td>8</td>\n",
       "      <td>6</td>\n",
       "      <td>1</td>\n",
       "    </tr>\n",
       "    <tr>\n",
       "      <th>7</th>\n",
       "      <td>2</td>\n",
       "      <td>28</td>\n",
       "      <td>7.50</td>\n",
       "      <td>4</td>\n",
       "      <td>1</td>\n",
       "      <td>9</td>\n",
       "      <td>2</td>\n",
       "      <td>1</td>\n",
       "    </tr>\n",
       "    <tr>\n",
       "      <th>8</th>\n",
       "      <td>2</td>\n",
       "      <td>19</td>\n",
       "      <td>6.00</td>\n",
       "      <td>2</td>\n",
       "      <td>1</td>\n",
       "      <td>225</td>\n",
       "      <td>8</td>\n",
       "      <td>1</td>\n",
       "    </tr>\n",
       "    <tr>\n",
       "      <th>9</th>\n",
       "      <td>2</td>\n",
       "      <td>32</td>\n",
       "      <td>12.00</td>\n",
       "      <td>6</td>\n",
       "      <td>3</td>\n",
       "      <td>35</td>\n",
       "      <td>5</td>\n",
       "      <td>0</td>\n",
       "    </tr>\n",
       "    <tr>\n",
       "      <th>10</th>\n",
       "      <td>2</td>\n",
       "      <td>33</td>\n",
       "      <td>6.25</td>\n",
       "      <td>2</td>\n",
       "      <td>1</td>\n",
       "      <td>30</td>\n",
       "      <td>3</td>\n",
       "      <td>1</td>\n",
       "    </tr>\n",
       "    <tr>\n",
       "      <th>11</th>\n",
       "      <td>2</td>\n",
       "      <td>17</td>\n",
       "      <td>5.75</td>\n",
       "      <td>12</td>\n",
       "      <td>3</td>\n",
       "      <td>25</td>\n",
       "      <td>7</td>\n",
       "      <td>1</td>\n",
       "    </tr>\n",
       "    <tr>\n",
       "      <th>12</th>\n",
       "      <td>2</td>\n",
       "      <td>15</td>\n",
       "      <td>1.75</td>\n",
       "      <td>1</td>\n",
       "      <td>2</td>\n",
       "      <td>49</td>\n",
       "      <td>7</td>\n",
       "      <td>0</td>\n",
       "    </tr>\n",
       "    <tr>\n",
       "      <th>13</th>\n",
       "      <td>2</td>\n",
       "      <td>15</td>\n",
       "      <td>5.50</td>\n",
       "      <td>12</td>\n",
       "      <td>1</td>\n",
       "      <td>48</td>\n",
       "      <td>7</td>\n",
       "      <td>1</td>\n",
       "    </tr>\n",
       "    <tr>\n",
       "      <th>14</th>\n",
       "      <td>2</td>\n",
       "      <td>16</td>\n",
       "      <td>10.00</td>\n",
       "      <td>7</td>\n",
       "      <td>1</td>\n",
       "      <td>143</td>\n",
       "      <td>6</td>\n",
       "      <td>1</td>\n",
       "    </tr>\n",
       "    <tr>\n",
       "      <th>15</th>\n",
       "      <td>2</td>\n",
       "      <td>33</td>\n",
       "      <td>9.25</td>\n",
       "      <td>2</td>\n",
       "      <td>2</td>\n",
       "      <td>150</td>\n",
       "      <td>8</td>\n",
       "      <td>1</td>\n",
       "    </tr>\n",
       "    <tr>\n",
       "      <th>16</th>\n",
       "      <td>2</td>\n",
       "      <td>26</td>\n",
       "      <td>7.75</td>\n",
       "      <td>6</td>\n",
       "      <td>2</td>\n",
       "      <td>6</td>\n",
       "      <td>5</td>\n",
       "      <td>1</td>\n",
       "    </tr>\n",
       "    <tr>\n",
       "      <th>17</th>\n",
       "      <td>2</td>\n",
       "      <td>23</td>\n",
       "      <td>7.50</td>\n",
       "      <td>10</td>\n",
       "      <td>2</td>\n",
       "      <td>43</td>\n",
       "      <td>3</td>\n",
       "      <td>1</td>\n",
       "    </tr>\n",
       "    <tr>\n",
       "      <th>18</th>\n",
       "      <td>2</td>\n",
       "      <td>15</td>\n",
       "      <td>6.50</td>\n",
       "      <td>19</td>\n",
       "      <td>1</td>\n",
       "      <td>56</td>\n",
       "      <td>7</td>\n",
       "      <td>1</td>\n",
       "    </tr>\n",
       "    <tr>\n",
       "      <th>19</th>\n",
       "      <td>2</td>\n",
       "      <td>26</td>\n",
       "      <td>6.75</td>\n",
       "      <td>2</td>\n",
       "      <td>1</td>\n",
       "      <td>6</td>\n",
       "      <td>6</td>\n",
       "      <td>1</td>\n",
       "    </tr>\n",
       "    <tr>\n",
       "      <th>20</th>\n",
       "      <td>1</td>\n",
       "      <td>22</td>\n",
       "      <td>1.25</td>\n",
       "      <td>3</td>\n",
       "      <td>3</td>\n",
       "      <td>47</td>\n",
       "      <td>3</td>\n",
       "      <td>1</td>\n",
       "    </tr>\n",
       "    <tr>\n",
       "      <th>21</th>\n",
       "      <td>2</td>\n",
       "      <td>19</td>\n",
       "      <td>2.25</td>\n",
       "      <td>2</td>\n",
       "      <td>1</td>\n",
       "      <td>60</td>\n",
       "      <td>7</td>\n",
       "      <td>1</td>\n",
       "    </tr>\n",
       "    <tr>\n",
       "      <th>22</th>\n",
       "      <td>2</td>\n",
       "      <td>26</td>\n",
       "      <td>10.50</td>\n",
       "      <td>6</td>\n",
       "      <td>1</td>\n",
       "      <td>50</td>\n",
       "      <td>9</td>\n",
       "      <td>0</td>\n",
       "    </tr>\n",
       "    <tr>\n",
       "      <th>23</th>\n",
       "      <td>1</td>\n",
       "      <td>25</td>\n",
       "      <td>5.75</td>\n",
       "      <td>2</td>\n",
       "      <td>1</td>\n",
       "      <td>300</td>\n",
       "      <td>7</td>\n",
       "      <td>1</td>\n",
       "    </tr>\n",
       "    <tr>\n",
       "      <th>24</th>\n",
       "      <td>2</td>\n",
       "      <td>17</td>\n",
       "      <td>11.25</td>\n",
       "      <td>4</td>\n",
       "      <td>3</td>\n",
       "      <td>70</td>\n",
       "      <td>7</td>\n",
       "      <td>1</td>\n",
       "    </tr>\n",
       "    <tr>\n",
       "      <th>25</th>\n",
       "      <td>1</td>\n",
       "      <td>27</td>\n",
       "      <td>5.00</td>\n",
       "      <td>2</td>\n",
       "      <td>1</td>\n",
       "      <td>20</td>\n",
       "      <td>5</td>\n",
       "      <td>1</td>\n",
       "    </tr>\n",
       "    <tr>\n",
       "      <th>26</th>\n",
       "      <td>2</td>\n",
       "      <td>24</td>\n",
       "      <td>4.75</td>\n",
       "      <td>10</td>\n",
       "      <td>3</td>\n",
       "      <td>30</td>\n",
       "      <td>45</td>\n",
       "      <td>1</td>\n",
       "    </tr>\n",
       "    <tr>\n",
       "      <th>27</th>\n",
       "      <td>1</td>\n",
       "      <td>15</td>\n",
       "      <td>11.00</td>\n",
       "      <td>6</td>\n",
       "      <td>1</td>\n",
       "      <td>30</td>\n",
       "      <td>25</td>\n",
       "      <td>0</td>\n",
       "    </tr>\n",
       "    <tr>\n",
       "      <th>28</th>\n",
       "      <td>2</td>\n",
       "      <td>34</td>\n",
       "      <td>11.50</td>\n",
       "      <td>12</td>\n",
       "      <td>1</td>\n",
       "      <td>25</td>\n",
       "      <td>50</td>\n",
       "      <td>0</td>\n",
       "    </tr>\n",
       "    <tr>\n",
       "      <th>29</th>\n",
       "      <td>2</td>\n",
       "      <td>20</td>\n",
       "      <td>7.75</td>\n",
       "      <td>18</td>\n",
       "      <td>3</td>\n",
       "      <td>45</td>\n",
       "      <td>2</td>\n",
       "      <td>1</td>\n",
       "    </tr>\n",
       "    <tr>\n",
       "      <th>...</th>\n",
       "      <td>...</td>\n",
       "      <td>...</td>\n",
       "      <td>...</td>\n",
       "      <td>...</td>\n",
       "      <td>...</td>\n",
       "      <td>...</td>\n",
       "      <td>...</td>\n",
       "      <td>...</td>\n",
       "    </tr>\n",
       "    <tr>\n",
       "      <th>60</th>\n",
       "      <td>2</td>\n",
       "      <td>47</td>\n",
       "      <td>3.75</td>\n",
       "      <td>14</td>\n",
       "      <td>2</td>\n",
       "      <td>67</td>\n",
       "      <td>50</td>\n",
       "      <td>1</td>\n",
       "    </tr>\n",
       "    <tr>\n",
       "      <th>61</th>\n",
       "      <td>2</td>\n",
       "      <td>19</td>\n",
       "      <td>2.25</td>\n",
       "      <td>8</td>\n",
       "      <td>2</td>\n",
       "      <td>42</td>\n",
       "      <td>70</td>\n",
       "      <td>1</td>\n",
       "    </tr>\n",
       "    <tr>\n",
       "      <th>62</th>\n",
       "      <td>2</td>\n",
       "      <td>33</td>\n",
       "      <td>8.00</td>\n",
       "      <td>5</td>\n",
       "      <td>1</td>\n",
       "      <td>63</td>\n",
       "      <td>25</td>\n",
       "      <td>1</td>\n",
       "    </tr>\n",
       "    <tr>\n",
       "      <th>63</th>\n",
       "      <td>2</td>\n",
       "      <td>15</td>\n",
       "      <td>4.00</td>\n",
       "      <td>12</td>\n",
       "      <td>1</td>\n",
       "      <td>72</td>\n",
       "      <td>30</td>\n",
       "      <td>1</td>\n",
       "    </tr>\n",
       "    <tr>\n",
       "      <th>64</th>\n",
       "      <td>1</td>\n",
       "      <td>17</td>\n",
       "      <td>8.50</td>\n",
       "      <td>2</td>\n",
       "      <td>1</td>\n",
       "      <td>44</td>\n",
       "      <td>8</td>\n",
       "      <td>1</td>\n",
       "    </tr>\n",
       "    <tr>\n",
       "      <th>65</th>\n",
       "      <td>1</td>\n",
       "      <td>29</td>\n",
       "      <td>5.00</td>\n",
       "      <td>12</td>\n",
       "      <td>3</td>\n",
       "      <td>75</td>\n",
       "      <td>7</td>\n",
       "      <td>1</td>\n",
       "    </tr>\n",
       "    <tr>\n",
       "      <th>66</th>\n",
       "      <td>1</td>\n",
       "      <td>27</td>\n",
       "      <td>11.75</td>\n",
       "      <td>8</td>\n",
       "      <td>1</td>\n",
       "      <td>208</td>\n",
       "      <td>6</td>\n",
       "      <td>0</td>\n",
       "    </tr>\n",
       "    <tr>\n",
       "      <th>67</th>\n",
       "      <td>2</td>\n",
       "      <td>51</td>\n",
       "      <td>6.00</td>\n",
       "      <td>6</td>\n",
       "      <td>1</td>\n",
       "      <td>80</td>\n",
       "      <td>2</td>\n",
       "      <td>1</td>\n",
       "    </tr>\n",
       "    <tr>\n",
       "      <th>68</th>\n",
       "      <td>1</td>\n",
       "      <td>35</td>\n",
       "      <td>6.75</td>\n",
       "      <td>4</td>\n",
       "      <td>3</td>\n",
       "      <td>41</td>\n",
       "      <td>8</td>\n",
       "      <td>1</td>\n",
       "    </tr>\n",
       "    <tr>\n",
       "      <th>69</th>\n",
       "      <td>2</td>\n",
       "      <td>47</td>\n",
       "      <td>10.75</td>\n",
       "      <td>8</td>\n",
       "      <td>1</td>\n",
       "      <td>57</td>\n",
       "      <td>5</td>\n",
       "      <td>0</td>\n",
       "    </tr>\n",
       "    <tr>\n",
       "      <th>70</th>\n",
       "      <td>1</td>\n",
       "      <td>43</td>\n",
       "      <td>8.00</td>\n",
       "      <td>1</td>\n",
       "      <td>1</td>\n",
       "      <td>59</td>\n",
       "      <td>3</td>\n",
       "      <td>1</td>\n",
       "    </tr>\n",
       "    <tr>\n",
       "      <th>71</th>\n",
       "      <td>1</td>\n",
       "      <td>15</td>\n",
       "      <td>4.00</td>\n",
       "      <td>4</td>\n",
       "      <td>3</td>\n",
       "      <td>25</td>\n",
       "      <td>7</td>\n",
       "      <td>1</td>\n",
       "    </tr>\n",
       "    <tr>\n",
       "      <th>72</th>\n",
       "      <td>1</td>\n",
       "      <td>33</td>\n",
       "      <td>1.75</td>\n",
       "      <td>7</td>\n",
       "      <td>2</td>\n",
       "      <td>379</td>\n",
       "      <td>7</td>\n",
       "      <td>0</td>\n",
       "    </tr>\n",
       "    <tr>\n",
       "      <th>73</th>\n",
       "      <td>2</td>\n",
       "      <td>51</td>\n",
       "      <td>4.00</td>\n",
       "      <td>1</td>\n",
       "      <td>1</td>\n",
       "      <td>65</td>\n",
       "      <td>7</td>\n",
       "      <td>1</td>\n",
       "    </tr>\n",
       "    <tr>\n",
       "      <th>74</th>\n",
       "      <td>1</td>\n",
       "      <td>45</td>\n",
       "      <td>6.50</td>\n",
       "      <td>9</td>\n",
       "      <td>2</td>\n",
       "      <td>49</td>\n",
       "      <td>6</td>\n",
       "      <td>1</td>\n",
       "    </tr>\n",
       "    <tr>\n",
       "      <th>75</th>\n",
       "      <td>2</td>\n",
       "      <td>47</td>\n",
       "      <td>9.25</td>\n",
       "      <td>13</td>\n",
       "      <td>2</td>\n",
       "      <td>367</td>\n",
       "      <td>8</td>\n",
       "      <td>1</td>\n",
       "    </tr>\n",
       "    <tr>\n",
       "      <th>76</th>\n",
       "      <td>1</td>\n",
       "      <td>18</td>\n",
       "      <td>11.75</td>\n",
       "      <td>5</td>\n",
       "      <td>2</td>\n",
       "      <td>13</td>\n",
       "      <td>5</td>\n",
       "      <td>1</td>\n",
       "    </tr>\n",
       "    <tr>\n",
       "      <th>77</th>\n",
       "      <td>2</td>\n",
       "      <td>46</td>\n",
       "      <td>7.75</td>\n",
       "      <td>8</td>\n",
       "      <td>1</td>\n",
       "      <td>40</td>\n",
       "      <td>3</td>\n",
       "      <td>1</td>\n",
       "    </tr>\n",
       "    <tr>\n",
       "      <th>78</th>\n",
       "      <td>1</td>\n",
       "      <td>43</td>\n",
       "      <td>11.00</td>\n",
       "      <td>7</td>\n",
       "      <td>1</td>\n",
       "      <td>507</td>\n",
       "      <td>7</td>\n",
       "      <td>1</td>\n",
       "    </tr>\n",
       "    <tr>\n",
       "      <th>79</th>\n",
       "      <td>2</td>\n",
       "      <td>28</td>\n",
       "      <td>11.00</td>\n",
       "      <td>3</td>\n",
       "      <td>3</td>\n",
       "      <td>91</td>\n",
       "      <td>6</td>\n",
       "      <td>0</td>\n",
       "    </tr>\n",
       "    <tr>\n",
       "      <th>80</th>\n",
       "      <td>1</td>\n",
       "      <td>30</td>\n",
       "      <td>1.00</td>\n",
       "      <td>2</td>\n",
       "      <td>1</td>\n",
       "      <td>88</td>\n",
       "      <td>3</td>\n",
       "      <td>1</td>\n",
       "    </tr>\n",
       "    <tr>\n",
       "      <th>81</th>\n",
       "      <td>2</td>\n",
       "      <td>16</td>\n",
       "      <td>2.00</td>\n",
       "      <td>11</td>\n",
       "      <td>1</td>\n",
       "      <td>47</td>\n",
       "      <td>7</td>\n",
       "      <td>1</td>\n",
       "    </tr>\n",
       "    <tr>\n",
       "      <th>82</th>\n",
       "      <td>2</td>\n",
       "      <td>42</td>\n",
       "      <td>8.75</td>\n",
       "      <td>8</td>\n",
       "      <td>2</td>\n",
       "      <td>73</td>\n",
       "      <td>9</td>\n",
       "      <td>0</td>\n",
       "    </tr>\n",
       "    <tr>\n",
       "      <th>83</th>\n",
       "      <td>2</td>\n",
       "      <td>15</td>\n",
       "      <td>8.00</td>\n",
       "      <td>1</td>\n",
       "      <td>1</td>\n",
       "      <td>55</td>\n",
       "      <td>7</td>\n",
       "      <td>1</td>\n",
       "    </tr>\n",
       "    <tr>\n",
       "      <th>84</th>\n",
       "      <td>2</td>\n",
       "      <td>53</td>\n",
       "      <td>7.25</td>\n",
       "      <td>6</td>\n",
       "      <td>1</td>\n",
       "      <td>81</td>\n",
       "      <td>7</td>\n",
       "      <td>1</td>\n",
       "    </tr>\n",
       "    <tr>\n",
       "      <th>85</th>\n",
       "      <td>1</td>\n",
       "      <td>40</td>\n",
       "      <td>5.50</td>\n",
       "      <td>8</td>\n",
       "      <td>3</td>\n",
       "      <td>69</td>\n",
       "      <td>5</td>\n",
       "      <td>1</td>\n",
       "    </tr>\n",
       "    <tr>\n",
       "      <th>86</th>\n",
       "      <td>1</td>\n",
       "      <td>38</td>\n",
       "      <td>7.50</td>\n",
       "      <td>8</td>\n",
       "      <td>2</td>\n",
       "      <td>56</td>\n",
       "      <td>45</td>\n",
       "      <td>1</td>\n",
       "    </tr>\n",
       "    <tr>\n",
       "      <th>87</th>\n",
       "      <td>1</td>\n",
       "      <td>46</td>\n",
       "      <td>11.50</td>\n",
       "      <td>4</td>\n",
       "      <td>1</td>\n",
       "      <td>91</td>\n",
       "      <td>25</td>\n",
       "      <td>0</td>\n",
       "    </tr>\n",
       "    <tr>\n",
       "      <th>88</th>\n",
       "      <td>1</td>\n",
       "      <td>32</td>\n",
       "      <td>12.00</td>\n",
       "      <td>9</td>\n",
       "      <td>1</td>\n",
       "      <td>43</td>\n",
       "      <td>50</td>\n",
       "      <td>0</td>\n",
       "    </tr>\n",
       "    <tr>\n",
       "      <th>89</th>\n",
       "      <td>2</td>\n",
       "      <td>23</td>\n",
       "      <td>6.75</td>\n",
       "      <td>6</td>\n",
       "      <td>1</td>\n",
       "      <td>19</td>\n",
       "      <td>2</td>\n",
       "      <td>1</td>\n",
       "    </tr>\n",
       "  </tbody>\n",
       "</table>\n",
       "<p>90 rows × 8 columns</p>\n",
       "</div>"
      ],
      "text/plain": [
       "    sex  age   Time  Number_of_Warts  Type  Area  induration_diameter  \\\n",
       "0     1   22   2.25               14     3    51                   50   \n",
       "1     1   15   3.00                2     3   900                   70   \n",
       "2     1   16  10.50                2     1   100                   25   \n",
       "3     1   27   4.50                9     3    80                   30   \n",
       "4     1   20   8.00                6     1    45                    8   \n",
       "5     1   15   5.00                3     3    84                    7   \n",
       "6     1   35   9.75                2     2     8                    6   \n",
       "7     2   28   7.50                4     1     9                    2   \n",
       "8     2   19   6.00                2     1   225                    8   \n",
       "9     2   32  12.00                6     3    35                    5   \n",
       "10    2   33   6.25                2     1    30                    3   \n",
       "11    2   17   5.75               12     3    25                    7   \n",
       "12    2   15   1.75                1     2    49                    7   \n",
       "13    2   15   5.50               12     1    48                    7   \n",
       "14    2   16  10.00                7     1   143                    6   \n",
       "15    2   33   9.25                2     2   150                    8   \n",
       "16    2   26   7.75                6     2     6                    5   \n",
       "17    2   23   7.50               10     2    43                    3   \n",
       "18    2   15   6.50               19     1    56                    7   \n",
       "19    2   26   6.75                2     1     6                    6   \n",
       "20    1   22   1.25                3     3    47                    3   \n",
       "21    2   19   2.25                2     1    60                    7   \n",
       "22    2   26  10.50                6     1    50                    9   \n",
       "23    1   25   5.75                2     1   300                    7   \n",
       "24    2   17  11.25                4     3    70                    7   \n",
       "25    1   27   5.00                2     1    20                    5   \n",
       "26    2   24   4.75               10     3    30                   45   \n",
       "27    1   15  11.00                6     1    30                   25   \n",
       "28    2   34  11.50               12     1    25                   50   \n",
       "29    2   20   7.75               18     3    45                    2   \n",
       "..  ...  ...    ...              ...   ...   ...                  ...   \n",
       "60    2   47   3.75               14     2    67                   50   \n",
       "61    2   19   2.25                8     2    42                   70   \n",
       "62    2   33   8.00                5     1    63                   25   \n",
       "63    2   15   4.00               12     1    72                   30   \n",
       "64    1   17   8.50                2     1    44                    8   \n",
       "65    1   29   5.00               12     3    75                    7   \n",
       "66    1   27  11.75                8     1   208                    6   \n",
       "67    2   51   6.00                6     1    80                    2   \n",
       "68    1   35   6.75                4     3    41                    8   \n",
       "69    2   47  10.75                8     1    57                    5   \n",
       "70    1   43   8.00                1     1    59                    3   \n",
       "71    1   15   4.00                4     3    25                    7   \n",
       "72    1   33   1.75                7     2   379                    7   \n",
       "73    2   51   4.00                1     1    65                    7   \n",
       "74    1   45   6.50                9     2    49                    6   \n",
       "75    2   47   9.25               13     2   367                    8   \n",
       "76    1   18  11.75                5     2    13                    5   \n",
       "77    2   46   7.75                8     1    40                    3   \n",
       "78    1   43  11.00                7     1   507                    7   \n",
       "79    2   28  11.00                3     3    91                    6   \n",
       "80    1   30   1.00                2     1    88                    3   \n",
       "81    2   16   2.00               11     1    47                    7   \n",
       "82    2   42   8.75                8     2    73                    9   \n",
       "83    2   15   8.00                1     1    55                    7   \n",
       "84    2   53   7.25                6     1    81                    7   \n",
       "85    1   40   5.50                8     3    69                    5   \n",
       "86    1   38   7.50                8     2    56                   45   \n",
       "87    1   46  11.50                4     1    91                   25   \n",
       "88    1   32  12.00                9     1    43                   50   \n",
       "89    2   23   6.75                6     1    19                    2   \n",
       "\n",
       "    Result_of_Treatment  \n",
       "0                     1  \n",
       "1                     1  \n",
       "2                     1  \n",
       "3                     1  \n",
       "4                     1  \n",
       "5                     1  \n",
       "6                     1  \n",
       "7                     1  \n",
       "8                     1  \n",
       "9                     0  \n",
       "10                    1  \n",
       "11                    1  \n",
       "12                    0  \n",
       "13                    1  \n",
       "14                    1  \n",
       "15                    1  \n",
       "16                    1  \n",
       "17                    1  \n",
       "18                    1  \n",
       "19                    1  \n",
       "20                    1  \n",
       "21                    1  \n",
       "22                    0  \n",
       "23                    1  \n",
       "24                    1  \n",
       "25                    1  \n",
       "26                    1  \n",
       "27                    0  \n",
       "28                    0  \n",
       "29                    1  \n",
       "..                  ...  \n",
       "60                    1  \n",
       "61                    1  \n",
       "62                    1  \n",
       "63                    1  \n",
       "64                    1  \n",
       "65                    1  \n",
       "66                    0  \n",
       "67                    1  \n",
       "68                    1  \n",
       "69                    0  \n",
       "70                    1  \n",
       "71                    1  \n",
       "72                    0  \n",
       "73                    1  \n",
       "74                    1  \n",
       "75                    1  \n",
       "76                    1  \n",
       "77                    1  \n",
       "78                    1  \n",
       "79                    0  \n",
       "80                    1  \n",
       "81                    1  \n",
       "82                    0  \n",
       "83                    1  \n",
       "84                    1  \n",
       "85                    1  \n",
       "86                    1  \n",
       "87                    0  \n",
       "88                    0  \n",
       "89                    1  \n",
       "\n",
       "[90 rows x 8 columns]"
      ]
     },
     "execution_count": 3,
     "metadata": {},
     "output_type": "execute_result"
    }
   ],
   "source": [
    "# Read the file into a pandas data frame.\n",
    "df = pd.read_csv('Immunotherapy.csv')\n",
    "df"
   ]
  },
  {
   "cell_type": "code",
   "execution_count": 4,
   "metadata": {
    "collapsed": true
   },
   "outputs": [],
   "source": [
    "# There can be some columns which may have missing values. So, we are removing those columns from our dataset.\n",
    "df1 = df.dropna(axis = 1)"
   ]
  },
  {
   "cell_type": "code",
   "execution_count": 5,
   "metadata": {},
   "outputs": [
    {
     "data": {
      "text/plain": [
       "(90, 8)"
      ]
     },
     "execution_count": 5,
     "metadata": {},
     "output_type": "execute_result"
    }
   ],
   "source": [
    "# Converting the df1 data frame into a numpy array named df2. Use values method of dataframes.\n",
    "df2 = df1.values\n",
    "df2.shape"
   ]
  },
  {
   "cell_type": "code",
   "execution_count": 6,
   "metadata": {
    "collapsed": true
   },
   "outputs": [],
   "source": [
    "# Select all rows and first 6 columns as X from df2.\n",
    "X = df2[:,0:7]\n",
    "# Select all rows and last column as Y from df2.\n",
    "Y = df2[:,df2.shape[1]-1]"
   ]
  },
  {
   "cell_type": "code",
   "execution_count": 7,
   "metadata": {
    "collapsed": true
   },
   "outputs": [],
   "source": [
    "# Splitting the dataset into training and test data.\n",
    "# Select first 45 rows as training dataset and the remaining rows as test dataset.\n",
    "X_train = X[0:45]\n",
    "Y_train = Y[0:45]\n",
    "X_test = X[45:90]\n",
    "Y_test = Y[45:90]"
   ]
  },
  {
   "cell_type": "markdown",
   "metadata": {},
   "source": [
    "# Logistic Regression\n",
    "First we will fit the dataset using a logistic regression model."
   ]
  },
  {
   "cell_type": "markdown",
   "metadata": {},
   "source": [
    "# Logistic Regression with Lasso(L1) Regularization.\n",
    "Read the comments in the below cell carefully.\n",
    "Try different values of parameter C."
   ]
  },
  {
   "cell_type": "code",
   "execution_count": 8,
   "metadata": {
    "collapsed": true
   },
   "outputs": [],
   "source": [
    "# Initialize an empty list to store values of training set accuracy.\n",
    "acc_train_logreg = [] "
   ]
  },
  {
   "cell_type": "code",
   "execution_count": 9,
   "metadata": {
    "collapsed": true
   },
   "outputs": [],
   "source": [
    "# Initialize an empty list to store values of test set accuracy.\n",
    "acc_test_logreg = []"
   ]
  },
  {
   "cell_type": "code",
   "execution_count": 10,
   "metadata": {
    "collapsed": true
   },
   "outputs": [],
   "source": [
    "# Initialize an empty list to store different values of parameter 'c'.\n",
    "c_logreg = []"
   ]
  },
  {
   "cell_type": "code",
   "execution_count": 12,
   "metadata": {
    "collapsed": true
   },
   "outputs": [],
   "source": [
    "# Complete the function logreg that accepts 'c' as a parameter, which is used to create logreg model \n",
    "# with different values of C.\n",
    "def logreg_model(c , X_train, Y_train, X_test, Y_test):\n",
    "    # Create an object of logistic regression model using linear_model.\n",
    "    # Pass the value of penalty as 'L1'. By default, it is 'L2'.\n",
    "    # Pass the value of C = c. Note that C is the inverse of lambda. So, small value of C i.e. b/w 0 and 1 \n",
    "    # means stronger regularization and large value means less regularization.\n",
    "    # Also, in sklearn, L1 is only supported with solver = 'saga'. Solver is the type of optimization algorithm like GDA or\n",
    "    # SGDA, which is to be used. So, 'saga' is another algorithm like that. Pass the value of solver as 'saga'\n",
    "\n",
    "    logreg = linear_model.LogisticRegression('L1',C = c,solver='saga')\n",
    "    \n",
    "    # Fit the model on the training set.\n",
    "    logreg.fit(X_train,Y_train)\n",
    "    print('C = ' + str(c))\n",
    "    # Find the prediction on training set.\n",
    "    Yhat_train = logreg.predict(X_train)\n",
    "    acc_train = np.mean(Yhat_train == Y_train)\n",
    "    acc_train_logreg.append(acc_train)\n",
    "    print(\"Accuracy on training data = %f\" % acc_train)\n",
    "    \n",
    "    # Find the prediction on test set.\n",
    "    Yhat_test = logreg.predict(X_test)\n",
    "    acc_test = np.mean(Yhat_test == Y_test)\n",
    "    acc_test_logreg.append(acc_test)\n",
    "    print(\"Accuracy on test data = %f\" % acc_test)\n",
    "    \n",
    "    c_logreg.append(c)"
   ]
  },
  {
   "cell_type": "code",
   "execution_count": 13,
   "metadata": {},
   "outputs": [
    {
     "name": "stdout",
     "output_type": "stream",
     "text": [
      "C = 0.0001\n",
      "Accuracy on training data = 0.777778\n",
      "Accuracy on test data = 0.800000\n",
      "C = 0.001\n",
      "Accuracy on training data = 0.777778\n",
      "Accuracy on test data = 0.800000\n",
      "C = 0.01\n",
      "Accuracy on training data = 0.777778\n",
      "Accuracy on test data = 0.800000\n",
      "C = 0.1\n",
      "Accuracy on training data = 0.777778\n",
      "Accuracy on test data = 0.800000\n",
      "C = 1\n",
      "Accuracy on training data = 0.777778\n",
      "Accuracy on test data = 0.800000\n",
      "C = 10\n",
      "Accuracy on training data = 0.777778\n",
      "Accuracy on test data = 0.800000\n",
      "C = 100\n",
      "Accuracy on training data = 0.777778\n",
      "Accuracy on test data = 0.800000\n"
     ]
    },
    {
     "name": "stderr",
     "output_type": "stream",
     "text": [
      "/anaconda3/lib/python3.6/site-packages/sklearn/linear_model/sag.py:326: ConvergenceWarning: The max_iter was reached which means the coef_ did not converge\n",
      "  \"the coef_ did not converge\", ConvergenceWarning)\n"
     ]
    },
    {
     "data": {
      "text/plain": [
       "<matplotlib.collections.PathCollection at 0x1a11c9a588>"
      ]
     },
     "execution_count": 13,
     "metadata": {},
     "output_type": "execute_result"
    },
    {
     "data": {
      "image/png": "[encoded data removed]",
      "text/plain": [
       "<matplotlib.figure.Figure at 0x1a095cb438>"
      ]
     },
     "metadata": {},
     "output_type": "display_data"
    }
   ],
   "source": [
    "# Call the above function i.e. logreg_model with different values of parameter 'c'.\n",
    "# Start with smaller values of 'c' say 0.0001, 0.001, 0.01, 0.1, 1, 10, 100\n",
    "logreg_model(0.0001, X_train, Y_train, X_test, Y_test)\n",
    "logreg_model(0.001, X_train, Y_train, X_test, Y_test)\n",
    "logreg_model(0.01, X_train, Y_train, X_test, Y_test)\n",
    "logreg_model(0.1, X_train, Y_train, X_test, Y_test)\n",
    "logreg_model(1, X_train, Y_train, X_test, Y_test)\n",
    "logreg_model(10, X_train, Y_train, X_test, Y_test)\n",
    "logreg_model(100, X_train, Y_train, X_test, Y_test)\n",
    "\n",
    "# Write code to plot 2 plots.\n",
    "# Plot training accuracy(Y-axis) v/s 'c' on X - Axis.\n",
    "# Plot test accuracy(Y-Axis) v/s 'c' on X - Axis.\n",
    "plt.grid()\n",
    "plt.xlabel('c')\n",
    "plt.ylabel('test acc vs c (blue) and training acc vs c(orange)')\n",
    "plt.scatter(c_logreg,acc_test_logreg)\n",
    "\n",
    "plt.grid()\n",
    "plt.scatter(c_logreg,acc_train_logreg)"
   ]
  },
  {
   "cell_type": "markdown",
   "metadata": {},
   "source": [
    "# Logistic Regression with Ridge(L2) Regularization."
   ]
  },
  {
   "cell_type": "code",
   "execution_count": 14,
   "metadata": {
    "collapsed": true
   },
   "outputs": [],
   "source": [
    "# Initialize an empty list to store values of training set accuracy.\n",
    "acc_train_logreg2 = []"
   ]
  },
  {
   "cell_type": "code",
   "execution_count": 15,
   "metadata": {
    "collapsed": true
   },
   "outputs": [],
   "source": [
    "# Initialize an empty list to store values of test set accuracy.\n",
    "acc_test_logreg2 = []"
   ]
  },
  {
   "cell_type": "code",
   "execution_count": 16,
   "metadata": {
    "collapsed": true
   },
   "outputs": [],
   "source": [
    "# Initialize an empty list to store different values of parameter 'c'.\n",
    "c_logreg2 = []"
   ]
  },
  {
   "cell_type": "code",
   "execution_count": 17,
   "metadata": {
    "collapsed": true
   },
   "outputs": [],
   "source": [
    "def logreg2_model(c , X_train, Y_train, X_test, Y_test):\n",
    "    # Create an object of logistic regression model using linear_model.\n",
    "    # Pass the value of C=c.\n",
    "    # You need not pass other parameters as penalty is 'L2' by default.\n",
    "    \n",
    "    logreg2 = linear_model.LogisticRegression(C=c)\n",
    "    \n",
    "    # Fit the model on the training set.\n",
    "    logreg2.fit(X_train,Y_train)\n",
    "    \n",
    "    print('C = ' + str(c))\n",
    "    \n",
    "    # Find the prediction on training set.\n",
    "    Yhat_train = logreg2.predict(X_train)\n",
    "    acc_train = np.mean(Yhat_train == Y_train)\n",
    "    acc_train_logreg2.append(acc_train)\n",
    "    print(\"Accuracy on training data = %f\" % acc_train)\n",
    "    \n",
    "    # Find the prediction and accuracy on test set.\n",
    "    Yhat_test = logreg2.predict(X_test)\n",
    "    acc_test = np.mean(Yhat_test == Y_test)\n",
    "    acc_test_logreg2.append(acc_test)\n",
    "    print(\"Accuracy on test data = %f\" % acc_test)\n",
    "    \n",
    "    c_logreg2.append(c)\n",
    "    "
   ]
  },
  {
   "cell_type": "code",
   "execution_count": 18,
   "metadata": {},
   "outputs": [
    {
     "name": "stdout",
     "output_type": "stream",
     "text": [
      "C = 0.0001\n",
      "Accuracy on training data = 0.777778\n",
      "Accuracy on test data = 0.800000\n",
      "C = 0.001\n",
      "Accuracy on training data = 0.777778\n",
      "Accuracy on test data = 0.800000\n",
      "C = 0.01\n",
      "Accuracy on training data = 0.733333\n",
      "Accuracy on test data = 0.777778\n",
      "C = 0.1\n",
      "Accuracy on training data = 0.733333\n",
      "Accuracy on test data = 0.688889\n",
      "C = 1\n",
      "Accuracy on training data = 0.777778\n",
      "Accuracy on test data = 0.711111\n",
      "C = 10\n",
      "Accuracy on training data = 0.822222\n",
      "Accuracy on test data = 0.711111\n",
      "C = 100\n",
      "Accuracy on training data = 0.822222\n",
      "Accuracy on test data = 0.666667\n"
     ]
    },
    {
     "data": {
      "text/plain": [
       "<matplotlib.collections.PathCollection at 0x1a11cee400>"
      ]
     },
     "execution_count": 18,
     "metadata": {},
     "output_type": "execute_result"
    },
    {
     "data": {
      "image/png": "[encoded data removed]",
      "text/plain": [
       "<matplotlib.figure.Figure at 0x1a11cee588>"
      ]
     },
     "metadata": {},
     "output_type": "display_data"
    }
   ],
   "source": [
    "# Call the above function i.e. logreg2_model with different values of parameter 'c'.\n",
    "# Start with smaller values of 'c' say 0.0001, 0.001, 0.01, 0.1, 1, 10, 100\n",
    "logreg2_model(0.0001, X_train, Y_train, X_test, Y_test)\n",
    "logreg2_model(0.001, X_train, Y_train, X_test, Y_test)\n",
    "logreg2_model(0.01, X_train, Y_train, X_test, Y_test)\n",
    "logreg2_model(0.1, X_train, Y_train, X_test, Y_test)\n",
    "logreg2_model(1, X_train, Y_train, X_test, Y_test)\n",
    "logreg2_model(10, X_train, Y_train, X_test, Y_test)\n",
    "logreg2_model(100, X_train, Y_train, X_test, Y_test)\n",
    "\n",
    "# Write code to plot 2 plots.\n",
    "# Plot training accuracy(Y-axis) v/s 'c' on X - Axis.\n",
    "# Plot test accuracy(Y-Axis) v/s 'c' on X - Axis.\n",
    "plt.grid()\n",
    "plt.xlabel('c')\n",
    "plt.ylabel('test acc vs c (blue) and training acc vs c(orange)')\n",
    "plt.scatter(c_logreg2,acc_test_logreg2)\n",
    "\n",
    "plt.grid()\n",
    "plt.scatter(c_logreg2,acc_train_logreg2)\n"
   ]
  },
  {
   "cell_type": "markdown",
   "metadata": {},
   "source": [
    "# Logistic Regression Using Polynomial Feature Transformation\n",
    "Refer the given link to know how we can transform features.<br>\n",
    "http://scikit-learn.org/stable/modules/generated/sklearn.preprocessing.PolynomialFeatures.html"
   ]
  },
  {
   "cell_type": "code",
   "execution_count": 19,
   "metadata": {
    "collapsed": true
   },
   "outputs": [],
   "source": [
    "from sklearn.preprocessing import PolynomialFeatures"
   ]
  },
  {
   "cell_type": "code",
   "execution_count": 20,
   "metadata": {
    "collapsed": true
   },
   "outputs": [],
   "source": [
    "# Create an object of PolynomialFeatures(2):\n",
    "poly = PolynomialFeatures(2)"
   ]
  },
  {
   "cell_type": "code",
   "execution_count": 21,
   "metadata": {
    "collapsed": true
   },
   "outputs": [],
   "source": [
    "# Create the transformed data matrices for training and test using poly.fit_transform(..)\n",
    "X_transformed_train = poly.fit_transform(X_train)\n",
    "X_transformed_test = poly.fit_transform(X_test)"
   ]
  },
  {
   "cell_type": "code",
   "execution_count": 22,
   "metadata": {},
   "outputs": [
    {
     "data": {
      "text/plain": [
       "(45, 36)"
      ]
     },
     "execution_count": 22,
     "metadata": {},
     "output_type": "execute_result"
    }
   ],
   "source": [
    "# Check the shapes of the new matrices.\n",
    "# Originally, we had 19 features.\n",
    "X_transformed_train.shape\n",
    "X_transformed_test.shape"
   ]
  },
  {
   "cell_type": "code",
   "execution_count": 23,
   "metadata": {},
   "outputs": [
    {
     "name": "stdout",
     "output_type": "stream",
     "text": [
      "C = 0.0001\n",
      "Accuracy on training data = 0.777778\n",
      "Accuracy on test data = 0.800000\n",
      "C = 0.001\n",
      "Accuracy on training data = 0.777778\n",
      "Accuracy on test data = 0.800000\n",
      "C = 0.01\n",
      "Accuracy on training data = 0.777778\n",
      "Accuracy on test data = 0.800000\n",
      "C = 0.1\n",
      "Accuracy on training data = 0.777778\n",
      "Accuracy on test data = 0.800000\n",
      "C = 1\n",
      "Accuracy on training data = 0.777778\n",
      "Accuracy on test data = 0.800000\n",
      "C = 10\n",
      "Accuracy on training data = 0.777778\n",
      "Accuracy on test data = 0.800000\n",
      "C = 100\n",
      "Accuracy on training data = 0.777778\n",
      "Accuracy on test data = 0.800000\n"
     ]
    },
    {
     "name": "stderr",
     "output_type": "stream",
     "text": [
      "/anaconda3/lib/python3.6/site-packages/sklearn/linear_model/sag.py:326: ConvergenceWarning: The max_iter was reached which means the coef_ did not converge\n",
      "  \"the coef_ did not converge\", ConvergenceWarning)\n"
     ]
    },
    {
     "data": {
      "image/png": "[encoded data removed]",
      "text/plain": [
       "<matplotlib.figure.Figure at 0x1a11cce5c0>"
      ]
     },
     "metadata": {},
     "output_type": "display_data"
    }
   ],
   "source": [
    "# Calling the logreg_model(..) using transformed features.\n",
    "# Pass c, X_transformed_train , Y_train, X_transformed_test, Y_test\n",
    "# Before calling the function, we need to re-initialize the 3 lists in which we append the \n",
    "# results (accuracy) because these lists are global variables.\n",
    "acc_train_logreg = []\n",
    "acc_test_logreg = []\n",
    "c_logreg = []\n",
    "# Call the function logreg_model.\n",
    "logreg_model(0.0001, X_transformed_train, Y_train, X_transformed_test, Y_test)\n",
    "logreg_model(0.001, X_transformed_train, Y_train, X_transformed_test, Y_test)\n",
    "logreg_model(0.01, X_transformed_train, Y_train, X_transformed_test, Y_test)\n",
    "logreg_model(0.1, X_transformed_train, Y_train, X_transformed_test, Y_test)\n",
    "logreg_model(1, X_transformed_train, Y_train, X_transformed_test, Y_test)\n",
    "logreg_model(10, X_transformed_train, Y_train, X_transformed_test, Y_test)\n",
    "logreg_model(100, X_transformed_train, Y_train, X_transformed_test, Y_test)\n",
    "# Write code to plot 2 plots.\n",
    "# Plot training accuracy(Y-axis) v/s 'c' on X - Axis.\n",
    "# Plot test accuracy(Y-Axis) v/s 'c' on X - Axis.\n",
    "plt.grid()\n",
    "plt.xlabel('c')\n",
    "plt.ylabel('test acc vs c (blue) and training acc vs c(orange)')\n",
    "plt.scatter(c_logreg,acc_test_logreg)\n",
    "\n",
    "plt.grid()\n",
    "plt.scatter(c_logreg,acc_train_logreg)\n",
    "\n",
    "acc_train_logreg2 = []\n",
    "acc_test_logreg2 = []\n",
    "c_logreg2 = []"
   ]
  },
  {
   "cell_type": "code",
   "execution_count": 24,
   "metadata": {},
   "outputs": [
    {
     "name": "stdout",
     "output_type": "stream",
     "text": [
      "C = 0.0001\n",
      "Accuracy on training data = 0.866667\n",
      "Accuracy on test data = 0.488889\n",
      "C = 0.001\n",
      "Accuracy on training data = 0.911111\n",
      "Accuracy on test data = 0.466667\n",
      "C = 0.01\n",
      "Accuracy on training data = 0.955556\n",
      "Accuracy on test data = 0.488889\n",
      "C = 0.1\n",
      "Accuracy on training data = 1.000000\n",
      "Accuracy on test data = 0.444444\n",
      "C = 1\n",
      "Accuracy on training data = 1.000000\n",
      "Accuracy on test data = 0.422222\n",
      "C = 10\n",
      "Accuracy on training data = 1.000000\n",
      "Accuracy on test data = 0.444444\n",
      "C = 100\n",
      "Accuracy on training data = 1.000000\n",
      "Accuracy on test data = 0.400000\n"
     ]
    },
    {
     "data": {
      "text/plain": [
       "<matplotlib.collections.PathCollection at 0x1a11f580b8>"
      ]
     },
     "execution_count": 24,
     "metadata": {},
     "output_type": "execute_result"
    },
    {
     "data": {
      "image/png": "[encoded data removed]",
      "text/plain": [
       "<matplotlib.figure.Figure at 0x1a11df1208>"
      ]
     },
     "metadata": {},
     "output_type": "display_data"
    }
   ],
   "source": [
    "# Calling the logreg2_model(..) using transformed features.\n",
    "# Pass c, X_transformed_train , Y_train, X_transformed_test, Y_test\n",
    "# Before calling the function, we need to re-initialize the 3 lists in which we append the \n",
    "# results (accuracy) beacause these list are global varibles.\n",
    "acc_train_logreg2 = []\n",
    "acc_test_logreg2 = []\n",
    "c_logreg2 = []\n",
    "# Call the function logreg2_model.\n",
    "logreg2_model(0.0001, X_transformed_train, Y_train, X_transformed_test, Y_test)\n",
    "logreg2_model(0.001, X_transformed_train, Y_train, X_transformed_test, Y_test)\n",
    "logreg2_model(0.01, X_transformed_train, Y_train, X_transformed_test, Y_test)\n",
    "logreg2_model(0.1, X_transformed_train, Y_train, X_transformed_test, Y_test)\n",
    "logreg2_model(1, X_transformed_train, Y_train, X_transformed_test, Y_test)\n",
    "logreg2_model(10, X_transformed_train, Y_train, X_transformed_test, Y_test)\n",
    "logreg2_model(100, X_transformed_train, Y_train, X_transformed_test, Y_test)\n",
    "# Write code to plot 2 plots.\n",
    "# Plot training accuracy(Y-axis) v/s 'c' on X - Axis.\n",
    "# Plot test accuracy(Y-Axis) v/s 'c' on X - Axis.\n",
    "plt.grid()\n",
    "plt.xlabel('c')\n",
    "plt.ylabel('test acc vs c')\n",
    "plt.scatter(c_logreg2,acc_test_logreg2)\n",
    "\n",
    "plt.grid()\n",
    "plt.xlabel('c')\n",
    "plt.ylabel('training acc vs c')\n",
    "plt.scatter(c_logreg2,acc_train_logreg2)"
   ]
  },
  {
   "cell_type": "markdown",
   "metadata": {},
   "source": [
    "# Note:\n",
    "<u>Do not</u> use these transformed features for the further part of the assignment. Use the X_train, Y_train, X_test and Y_test matrices."
   ]
  },
  {
   "cell_type": "markdown",
   "metadata": {},
   "source": [
    "# Support Vector Machines (SVM)\n",
    "Now we will use the same dataset and try to find a classifier using SVM.\n",
    "For more information about svm classifier, check the given link.\n",
    "http://scikit-learn.org/stable/modules/generated/sklearn.svm.SVC.html"
   ]
  },
  {
   "cell_type": "markdown",
   "metadata": {},
   "source": [
    "# SVM using Linear Kernel."
   ]
  },
  {
   "cell_type": "code",
   "execution_count": 25,
   "metadata": {
    "collapsed": true
   },
   "outputs": [],
   "source": [
    "acc_train_svm_linear = []"
   ]
  },
  {
   "cell_type": "code",
   "execution_count": 26,
   "metadata": {
    "collapsed": true
   },
   "outputs": [],
   "source": [
    "acc_test_svm_linear = []"
   ]
  },
  {
   "cell_type": "code",
   "execution_count": 27,
   "metadata": {
    "collapsed": true
   },
   "outputs": [],
   "source": [
    "c_svm_linear = []"
   ]
  },
  {
   "cell_type": "code",
   "execution_count": 28,
   "metadata": {
    "collapsed": true
   },
   "outputs": [],
   "source": [
    "# Complete the function below:\n",
    "# In this function and next 2 functions, we are not passing the data matrices as parameters \n",
    "# because we can use global variables inside the functions.\n",
    "def svm_linear(c):\n",
    "    # Create an object of svm.SVC(probability = False, kernel = 'linear', C = c).\n",
    "    svc = svm.SVC(probability = False, kernel = 'linear', C = c)\n",
    "    \n",
    "    # Fit the classifier on the training set.\n",
    "    svc.fit(X_train,Y_train)\n",
    "    print('C = ' + str(c))\n",
    "    # Find the prediction and accuracy on the training set.\n",
    "    Yhat_svc_linear_train = svc.predict(X_train)\n",
    "    acc_train = np.mean(Yhat_svc_linear_train == Y_train)\n",
    "    acc_train_svm_linear.append(acc_train)\n",
    "    print('Accuracy = {0:f}'.format(acc_train))\n",
    "    \n",
    "    # Find the prediction and accuracy on the test set.\n",
    "    Yhat_svc_linear_test = svc.predict(X_test)\n",
    "    acc_test = np.mean(Yhat_svc_linear_test == Y_test)\n",
    "    acc_test_svm_linear.append(acc_test)\n",
    "    print('Accuracy = {0:f}'.format(acc_test))\n",
    "    \n",
    "    c_svm_linear.append(c)\n",
    "    "
   ]
  },
  {
   "cell_type": "code",
   "execution_count": 29,
   "metadata": {},
   "outputs": [
    {
     "name": "stdout",
     "output_type": "stream",
     "text": [
      "C = 0.0001\n",
      "Accuracy = 0.777778\n",
      "Accuracy = 0.800000\n",
      "C = 0.001\n",
      "Accuracy = 0.777778\n",
      "Accuracy = 0.800000\n",
      "C = 0.01\n",
      "Accuracy = 0.822222\n",
      "Accuracy = 0.666667\n",
      "C = 0.1\n",
      "Accuracy = 0.822222\n",
      "Accuracy = 0.600000\n",
      "C = 1\n",
      "Accuracy = 0.822222\n",
      "Accuracy = 0.600000\n",
      "C = 10\n",
      "Accuracy = 0.822222\n",
      "Accuracy = 0.600000\n"
     ]
    },
    {
     "data": {
      "text/plain": [
       "<matplotlib.collections.PathCollection at 0x1a11dba470>"
      ]
     },
     "execution_count": 29,
     "metadata": {},
     "output_type": "execute_result"
    },
    {
     "data": {
      "image/png": "[encoded data removed]",
      "text/plain": [
       "<matplotlib.figure.Figure at 0x1a11f73550>"
      ]
     },
     "metadata": {},
     "output_type": "display_data"
    }
   ],
   "source": [
    "# Call the above function i.e. svm_linear with different values of parameter 'c'.\n",
    "# Start with smaller values of 'c' say 0.0001, 0.001, 0.01, 0.1, 1, 10, 100\n",
    "svm_linear(0.0001)\n",
    "svm_linear(0.001)\n",
    "svm_linear(0.01)\n",
    "svm_linear(0.1)\n",
    "svm_linear(1)\n",
    "svm_linear(10)\n",
    "# Write code to plot 2 plots.\n",
    "# Plot training accuracy(Y-axis) v/s 'c' on X - Axis.\n",
    "# Plot test accuracy(Y-Axis) v/s 'c' on X - Axis.\n",
    "\n",
    "plt.grid()\n",
    "plt.xlabel('c')\n",
    "plt.ylabel('test acc vs c (blue) and training acc vs c(orange)')\n",
    "plt.scatter(c_svm_linear,acc_test_svm_linear)\n",
    "\n",
    "plt.grid()\n",
    "plt.scatter(c_svm_linear,acc_train_svm_linear)"
   ]
  },
  {
   "cell_type": "markdown",
   "metadata": {},
   "source": [
    "Change the value of parameter C above and see the difference in the results."
   ]
  },
  {
   "cell_type": "markdown",
   "metadata": {},
   "source": [
    "# SVM using Radial Basis Function(RBF) Kernel."
   ]
  },
  {
   "cell_type": "code",
   "execution_count": 30,
   "metadata": {
    "collapsed": true
   },
   "outputs": [],
   "source": [
    "# Complete the function below.\n",
    "# g is the value of gamma. \n",
    "def svm_rbf(c, g):\n",
    "    # Create an object of svm classifier using svm.SVC()\n",
    "    # Pass probability = False, kernel = 'rbf', value of C = c and rbf paramter gamma = g.\n",
    "    svc_rbf = svm.SVC(probability = False,kernel='rbf', C = c, gamma = g)\n",
    "    \n",
    "    # Fit the classifier on the training set.\n",
    "    svc_rbf.fit(X_train,Y_train)\n",
    "    print('C = ' + str(c))\n",
    "    # Find the prediction and accuracy on the training set.\n",
    "    Yhat_svc_rbf_train = svc_rbf.predict(X_train)\n",
    "    acc = np.mean(Yhat_svc_rbf_train == Y_train)\n",
    "    print('Accuracy = {0:f}'.format(acc))\n",
    "    \n",
    "    # Find the prediction and accuracy on the test set.\n",
    "    Yhat_svc_rbf_test = svc_rbf.predict(X_test)\n",
    "    acc = np.mean(Yhat_svc_rbf_test == Y_test)\n",
    "    print('Accuracy = {0:f}'.format(acc))\n",
    "  "
   ]
  },
  {
   "cell_type": "code",
   "execution_count": 31,
   "metadata": {},
   "outputs": [
    {
     "name": "stdout",
     "output_type": "stream",
     "text": [
      "C = 0.001\n",
      "Accuracy = 0.777778\n",
      "Accuracy = 0.800000\n",
      "C = 0.01\n",
      "Accuracy = 0.777778\n",
      "Accuracy = 0.800000\n",
      "C = 1\n",
      "Accuracy = 0.777778\n",
      "Accuracy = 0.800000\n",
      "C = 1\n",
      "Accuracy = 1.000000\n",
      "Accuracy = 0.800000\n",
      "C = 0.001\n",
      "Accuracy = 0.777778\n",
      "Accuracy = 0.800000\n",
      "C = 0.001\n",
      "Accuracy = 0.777778\n",
      "Accuracy = 0.800000\n",
      "C = 0.001\n",
      "Accuracy = 0.777778\n",
      "Accuracy = 0.800000\n"
     ]
    }
   ],
   "source": [
    "# Call the above function i.e. svm_rbf with different values of parameter 'c' and 'g'.\n",
    "# Start with smaller values of 'c' say 0.0001, 0.001, 0.01, 0.1, 1, 10, 100\n",
    "svm_rbf(0.001, 0.001)\n",
    "svm_rbf(0.01, 0.001)\n",
    "svm_rbf(1, 0.001)\n",
    "svm_rbf(1, 1)\n",
    "svm_rbf(0.001, 1)\n",
    "svm_rbf(0.001, 10)\n",
    "svm_rbf(0.001, 100)"
   ]
  },
  {
   "cell_type": "markdown",
   "metadata": {},
   "source": [
    "Change the value of parameter C and gamma above and see the difference in the results. "
   ]
  },
  {
   "cell_type": "markdown",
   "metadata": {},
   "source": [
    "# SVM using Polynomial Kernel.\n",
    "Note: SVM with polynomial kernel can be sometimes very slow. If that is the case, use smaller size of training set. Instead of all 600 training examples, use less (say 300)."
   ]
  },
  {
   "cell_type": "code",
   "execution_count": 32,
   "metadata": {
    "collapsed": true
   },
   "outputs": [],
   "source": [
    "acc_train_svm_poly = []"
   ]
  },
  {
   "cell_type": "code",
   "execution_count": 33,
   "metadata": {
    "collapsed": true
   },
   "outputs": [],
   "source": [
    "acc_test_svm_poly = []"
   ]
  },
  {
   "cell_type": "code",
   "execution_count": 34,
   "metadata": {
    "collapsed": true
   },
   "outputs": [],
   "source": [
    "c_svm_poly = []"
   ]
  },
  {
   "cell_type": "code",
   "execution_count": 35,
   "metadata": {
    "collapsed": true
   },
   "outputs": [],
   "source": [
    "def svm_polynomial(c):\n",
    "    # Create an object of svm classifier using svm.SVC()\n",
    "    # Pass probability = False, kernel = 'poly' , value of C = c.\n",
    "    svc_polynomial = svm.SVC(probability = False, kernel = 'poly', C = c)\n",
    "    \n",
    "    A = X_train \n",
    "    B = Y_train  \n",
    "    C = X_test   \n",
    "    D = Y_test\n",
    "    \n",
    "    # Fit the classifier on the training set.\n",
    "    # Use A and B to train and C and D to test.\n",
    "    svc_polynomial.fit(A,B)\n",
    "    print('C = ' + str(c))\n",
    "    # Find the prediction and accuracy on the training set.\n",
    "    Yhat_svc_polynomial_train = svc_polynomial.predict(A)\n",
    "    acc_train = np.mean(Yhat_svc_polynomial_train == B)\n",
    "    acc_train_svm_poly.append(acc_train)\n",
    "    print('Accuracy = {0:f}'.format(acc_train))\n",
    "    \n",
    "    # Find the prediction and accuracy on the test set.\n",
    "    Yhat_svc_polynomial_test = svc_polynomial.predict(C)\n",
    "    acc_test = np.mean(Yhat_svc_polynomial_test == D)\n",
    "    acc_test_svm_poly.append(acc_test)\n",
    "    print('Accuracy = {0:f}'.format(acc_test))\n",
    "    \n",
    "    c_svm_poly.append(c)\n",
    "    \n",
    "    "
   ]
  },
  {
   "cell_type": "code",
   "execution_count": 36,
   "metadata": {},
   "outputs": [
    {
     "name": "stdout",
     "output_type": "stream",
     "text": [
      "C = 1e-05\n",
      "Accuracy = 0.955556\n",
      "Accuracy = 0.533333\n",
      "C = 0.0001\n",
      "Accuracy = 1.000000\n",
      "Accuracy = 0.533333\n",
      "C = 0.001\n",
      "Accuracy = 1.000000\n",
      "Accuracy = 0.533333\n",
      "C = 0.01\n",
      "Accuracy = 1.000000\n",
      "Accuracy = 0.533333\n",
      "C = 0.1\n",
      "Accuracy = 1.000000\n",
      "Accuracy = 0.533333\n"
     ]
    },
    {
     "data": {
      "text/plain": [
       "<matplotlib.collections.PathCollection at 0x1a11faec50>"
      ]
     },
     "execution_count": 36,
     "metadata": {},
     "output_type": "execute_result"
    },
    {
     "data": {
      "image/png": "[encoded data removed]",
      "text/plain": [
       "<matplotlib.figure.Figure at 0x1a11eb45c0>"
      ]
     },
     "metadata": {},
     "output_type": "display_data"
    }
   ],
   "source": [
    "# Call the above function i.e. svm_poly with different values of parameter 'c'.\n",
    "# Start with smaller values of 'c' say 0.0001, 0.001, 0.01, 0.1, 1, 10, 100\n",
    "svm_polynomial(0.00001)\n",
    "svm_polynomial(0.0001)\n",
    "svm_polynomial(0.001)\n",
    "svm_polynomial(0.01)\n",
    "svm_polynomial(0.1)\n",
    "# Write code to plot 2 plots.\n",
    "# Plot training accuracy(Y-axis) v/s 'c' on X - Axis.\n",
    "# Plot test accuracy(Y-Axis) v/s 'c' on X - Axis.\n",
    "plt.grid()\n",
    "plt.xlabel('c')\n",
    "plt.ylabel('test acc vs c (blue) and training acc vs c(orange)')\n",
    "plt.scatter(c_svm_poly,acc_test_svm_poly)\n",
    "\n",
    "plt.grid()\n",
    "plt.scatter(c_svm_poly,acc_train_svm_poly)"
   ]
  },
  {
   "cell_type": "markdown",
   "metadata": {},
   "source": [
    "Change the value of parameter C and see the difference in the results."
   ]
  },
  {
   "cell_type": "markdown",
   "metadata": {},
   "source": [
    "# Repeating the Assignment with 2 more Datasets:\n",
    "1) Cryotherapy.csv (Predict result of treatment using 6 predictors).\n",
    "https://archive.ics.uci.edu/ml/datasets/Cryotherapy+Dataset+<br>\n",
    "2) Immunotherapy.csv (Predict result of treatment using 7 predictors).\n",
    "https://archive.ics.uci.edu/ml/datasets/Immunotherapy+Dataset <br>\n",
    "You have to repeat the full assignment with 2 more different datasets. You have to write a small report in a pdf file. You can use bullet points to discuss your results for every function of the assignment.<br>\n",
    "For example, for data1.csv dataset, write which method gave you the best accuracy using which value of the parameter.<br>\n",
    "You have to write this for all the 3 datasets in a single pdf file. \n",
    "Do not write explainations, just discuss your results / observations point to point. "
   ]
  }
 ],
 "metadata": {
  "kernelspec": {
   "display_name": "Python 3",
   "language": "python",
   "name": "python3"
  },
  "language_info": {
   "codemirror_mode": {
    "name": "ipython",
    "version": 3
   },
   "file_extension": ".py",
   "mimetype": "text/x-python",
   "name": "python",
   "nbconvert_exporter": "python",
   "pygments_lexer": "ipython3",
   "version": "3.6.3"
  }
 },
 "nbformat": 4,
 "nbformat_minor": 2
}
