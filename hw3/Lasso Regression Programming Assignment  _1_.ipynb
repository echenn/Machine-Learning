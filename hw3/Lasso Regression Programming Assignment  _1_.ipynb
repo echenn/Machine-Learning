{
 "cells": [
  {
   "cell_type": "markdown",
   "metadata": {},
   "source": [
    "# Lasso Regression Programming Assignment "
   ]
  },
  {
   "cell_type": "code",
   "execution_count": 3,
   "metadata": {
    "collapsed": true
   },
   "outputs": [],
   "source": [
    "# Run the code cell below\n",
    "import numpy as np\n",
    "import pandas as pd\n",
    "import matplotlib.pyplot as plt\n",
    "import sklearn.preprocessing\n",
    "from sklearn import linear_model\n",
    "import sklearn.model_selection\n",
    "% matplotlib inline"
   ]
  },
  {
   "cell_type": "markdown",
   "metadata": {},
   "source": [
    "# Data Import\n",
    "Import the data from the file College.csv"
   ]
  },
  {
   "cell_type": "code",
   "execution_count": 85,
   "metadata": {
    "scrolled": true
   },
   "outputs": [
    {
     "name": "stdout",
     "output_type": "stream",
     "text": [
      "(777, 16)\n"
     ]
    }
   ],
   "source": [
    "df = pd.read_csv(\"College.csv\")\n",
    "\n",
    "# Convert df into a numpy array using df.values\n",
    "data = df.values\n",
    "# Below code drops first 2 columns and selects the rest of the columns\n",
    "data1 = data[:,2:19]\n",
    "# Store Values of all Rows of Columns 0:16 in X and Values of last column in Y from data1 \n",
    "X = data1[:,0:16]\n",
    "Y = data1[:,16]\n",
    "print(X.shape)"
   ]
  },
  {
   "cell_type": "markdown",
   "metadata": {},
   "source": [
    "# Splitting Data Into Training And Test Set.\n",
    "Take first 390 rows as training set and the remaining rows as test set."
   ]
  },
  {
   "cell_type": "code",
   "execution_count": 86,
   "metadata": {
    "scrolled": false
   },
   "outputs": [],
   "source": [
    "X_tr = X[0:390]\n",
    "Y_tr = Y[0:390]\n",
    "X_test = X[390:777]\n",
    "Y_test = Y[390:777]"
   ]
  },
  {
   "cell_type": "markdown",
   "metadata": {},
   "source": [
    "# Fitting Linear Model\n",
    "In the below code cell, fit a linear model and print the testset error. You can use sklearn's linear_model to find the fit."
   ]
  },
  {
   "cell_type": "code",
   "execution_count": 88,
   "metadata": {},
   "outputs": [
    {
     "name": "stdout",
     "output_type": "stream",
     "text": [
      "91.68372103002557\n"
     ]
    }
   ],
   "source": [
    "# Linear Model\n",
    "modelfit = linear_model.LinearRegression()\n",
    "modelfit.fit(X_tr, Y_tr)\n",
    "\n",
    "# Measure normalized MSE\n",
    "y_test_pred = modelfit.predict(X_test)\n",
    "test_error = np.sum((y_test_pred-Y_test)**2)/ (2 * Y_test.shape[0]) \n",
    "print(test_error)\n"
   ]
  },
  {
   "cell_type": "markdown",
   "metadata": {},
   "source": [
    "# Lasso Regression\n",
    "In the below code cell, fit a lasso model using linear_model.Lasso(warm_start=True, fit_intercept = True). The alphas variable contaings 100 values of regularization parameter. Fit 100 models with these 100 different values of alphas and find test errors for all these 100 models and plot test error v/s alpha.\n",
    "Note: In lecture, we used the letter lambda for regularization but in sklearn, they use alpha. So, in this programming assignment, we prefer to use alpha for the regularization parameter. "
   ]
  },
  {
   "cell_type": "code",
   "execution_count": 97,
   "metadata": {},
   "outputs": [],
   "source": [
    "# Lasso Model\n",
    "model = linear_model.Lasso(warm_start=True, fit_intercept = True)\n",
    "# The code below \n",
    "nalpha = 100\n",
    "alphas = np.logspace(-3,1,nalpha)\n",
    "# Write code for finding costs for all the 100 models. YOu may use a for loop for this. \n",
    "mseArray = []\n",
    "for i in range(nalpha):\n",
    "    \n",
    "    model.alpha = alphas[i]\n",
    "    model.fit(X_tr,Y_tr)\n",
    "    \n",
    "    pred = model.predict(X_test)\n",
    "    mseArray.append(np.sum((pred-Y_test)**2)/(Y_test.shape[0]))\n",
    "    "
   ]
  },
  {
   "cell_type": "markdown",
   "metadata": {},
   "source": [
    "# Plotting Test Error v/s Alphas\n",
    "Write code to plot test errors v/s alphas in the code cell below."
   ]
  },
  {
   "cell_type": "code",
   "execution_count": 100,
   "metadata": {},
   "outputs": [
    {
     "data": {
      "text/plain": [
       "Text(0,0.5,'MSE')"
      ]
     },
     "execution_count": 100,
     "metadata": {},
     "output_type": "execute_result"
    },
    {
     "data": {
      "image/png": "[encoded data removed]",
      "text/plain": [
       "<matplotlib.figure.Figure at 0x1a13b43d68>"
      ]
     },
     "metadata": {},
     "output_type": "display_data"
    }
   ],
   "source": [
    "# Write the code below\n",
    "plt.scatter(alphas,mseArray)\n",
    "plt.xlabel('Alphas')\n",
    "plt.ylabel('MSE')\n"
   ]
  },
  {
   "cell_type": "markdown",
   "metadata": {},
   "source": [
    "# Number of Non-Zero Coefficients:\n",
    "Find the number of Non-Zero Coefficients in the model you select."
   ]
  },
  {
   "cell_type": "code",
   "execution_count": 101,
   "metadata": {
    "collapsed": true
   },
   "outputs": [],
   "source": [
    "# Write the code below"
   ]
  },
  {
   "cell_type": "code",
   "execution_count": 104,
   "metadata": {},
   "outputs": [
    {
     "name": "stdout",
     "output_type": "stream",
     "text": [
      "number of non zero coefficients are 13\n",
      "[  1.98452719e-03   2.25299671e-04  -1.66624018e-03   1.59150120e-02\n",
      "   2.37090495e-01  -7.71254288e-04  -1.21821105e-03   8.82048906e-04\n",
      "   2.93107108e-03  -9.45433138e-04  -4.07921842e-04   0.00000000e+00\n",
      "   0.00000000e+00  -0.00000000e+00   2.11616614e-01  -6.14023705e-04]\n"
     ]
    }
   ],
   "source": [
    "coeff = model.coef_\n",
    "nonZeros = np.sum(coeff!=0)\n",
    "print(\"number of non zero coefficients are \" + str(nonZeros))\n",
    "print(coeff)"
   ]
  },
  {
   "cell_type": "code",
   "execution_count": null,
   "metadata": {
    "collapsed": true
   },
   "outputs": [],
   "source": []
  },
  {
   "cell_type": "code",
   "execution_count": null,
   "metadata": {
    "collapsed": true
   },
   "outputs": [],
   "source": []
  }
 ],
 "metadata": {
  "kernelspec": {
   "display_name": "Python 3",
   "language": "python",
   "name": "python3"
  },
  "language_info": {
   "codemirror_mode": {
    "name": "ipython",
    "version": 3
   },
   "file_extension": ".py",
   "mimetype": "text/x-python",
   "name": "python",
   "nbconvert_exporter": "python",
   "pygments_lexer": "ipython3",
   "version": "3.6.3"
  }
 },
 "nbformat": 4,
 "nbformat_minor": 2
}
