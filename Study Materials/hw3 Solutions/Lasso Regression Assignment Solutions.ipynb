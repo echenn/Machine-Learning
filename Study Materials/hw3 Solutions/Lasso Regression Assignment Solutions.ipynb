{
 "cells": [
  {
   "cell_type": "code",
   "execution_count": 4,
   "metadata": {
    "collapsed": true
   },
   "outputs": [],
   "source": [
    "import numpy as np\n",
    "import pandas as pd\n",
    "import matplotlib.pyplot as plt\n",
    "import sklearn.preprocessing\n",
    "from sklearn import linear_model\n",
    "import sklearn.model_selection\n",
    "% matplotlib inline"
   ]
  },
  {
   "cell_type": "code",
   "execution_count": 6,
   "metadata": {},
   "outputs": [],
   "source": [
    "df = pd.read_csv(\"College.csv\")"
   ]
  },
  {
   "cell_type": "code",
   "execution_count": 7,
   "metadata": {
    "collapsed": true
   },
   "outputs": [],
   "source": [
    "data = df.values\n",
    "data1 = data[:,2:19]\n",
    "X = data1[:,0:16]\n",
    "Y = data1[:,16]"
   ]
  },
  {
   "cell_type": "markdown",
   "metadata": {},
   "source": [
    "# Splitting Data Into Training and Test Set"
   ]
  },
  {
   "cell_type": "code",
   "execution_count": 8,
   "metadata": {
    "collapsed": true
   },
   "outputs": [],
   "source": [
    "X_tr = X[0:390,:]\n",
    "Y_tr = Y[0:390]\n",
    "X_test = X[390:777,:]\n",
    "Y_test = Y[390:777]"
   ]
  },
  {
   "cell_type": "markdown",
   "metadata": {},
   "source": [
    "# Fitting Linear Model"
   ]
  },
  {
   "cell_type": "code",
   "execution_count": 10,
   "metadata": {},
   "outputs": [
    {
     "data": {
      "text/plain": [
       "LinearRegression(copy_X=True, fit_intercept=True, n_jobs=1, normalize=False)"
      ]
     },
     "execution_count": 10,
     "metadata": {},
     "output_type": "execute_result"
    }
   ],
   "source": [
    "regr = linear_model.LinearRegression()\n",
    "regr.fit(X_tr,Y_tr)"
   ]
  },
  {
   "cell_type": "markdown",
   "metadata": {},
   "source": [
    "# Test Error"
   ]
  },
  {
   "cell_type": "code",
   "execution_count": 11,
   "metadata": {},
   "outputs": [
    {
     "name": "stdout",
     "output_type": "stream",
     "text": [
      "91.68372103002557\n"
     ]
    }
   ],
   "source": [
    "predict = regr.predict(X_test) \n",
    "test_error = np.sum(np.square(Y_test - predict)) / (2 * Y_test.shape[0]) \n",
    "print(test_error)"
   ]
  },
  {
   "cell_type": "markdown",
   "metadata": {},
   "source": [
    "# Lasso Regression"
   ]
  },
  {
   "cell_type": "code",
   "execution_count": 12,
   "metadata": {
    "collapsed": true
   },
   "outputs": [],
   "source": [
    "# Creating the object of the model.\n",
    "model = linear_model.Lasso(warm_start=True, fit_intercept = True )\n",
    "# We use the `warm start` parameter so that the fit will start at the previous value.\n",
    "# This speeds up the fitting. \n",
    "# Even if it is False, it doesn't make much difference in the final solution and not so important parameter."
   ]
  },
  {
   "cell_type": "code",
   "execution_count": 13,
   "metadata": {},
   "outputs": [
    {
     "name": "stdout",
     "output_type": "stream",
     "text": [
      "[  1.00000000e-03   1.12332403e-03   1.26185688e-03   1.41747416e-03\n",
      "   1.59228279e-03   1.78864953e-03   2.00923300e-03   2.25701972e-03\n",
      "   2.53536449e-03   2.84803587e-03   3.19926714e-03   3.59381366e-03\n",
      "   4.03701726e-03   4.53487851e-03   5.09413801e-03   5.72236766e-03\n",
      "   6.42807312e-03   7.22080902e-03   8.11130831e-03   9.11162756e-03\n",
      "   1.02353102e-02   1.14975700e-02   1.29154967e-02   1.45082878e-02\n",
      "   1.62975083e-02   1.83073828e-02   2.05651231e-02   2.31012970e-02\n",
      "   2.59502421e-02   2.91505306e-02   3.27454916e-02   3.67837977e-02\n",
      "   4.13201240e-02   4.64158883e-02   5.21400829e-02   5.85702082e-02\n",
      "   6.57933225e-02   7.39072203e-02   8.30217568e-02   9.32603347e-02\n",
      "   1.04761575e-01   1.17681195e-01   1.32194115e-01   1.48496826e-01\n",
      "   1.66810054e-01   1.87381742e-01   2.10490414e-01   2.36448941e-01\n",
      "   2.65608778e-01   2.98364724e-01   3.35160265e-01   3.76493581e-01\n",
      "   4.22924287e-01   4.75081016e-01   5.33669923e-01   5.99484250e-01\n",
      "   6.73415066e-01   7.56463328e-01   8.49753436e-01   9.54548457e-01\n",
      "   1.07226722e+00   1.20450354e+00   1.35304777e+00   1.51991108e+00\n",
      "   1.70735265e+00   1.91791026e+00   2.15443469e+00   2.42012826e+00\n",
      "   2.71858824e+00   3.05385551e+00   3.43046929e+00   3.85352859e+00\n",
      "   4.32876128e+00   4.86260158e+00   5.46227722e+00   6.13590727e+00\n",
      "   6.89261210e+00   7.74263683e+00   8.69749003e+00   9.77009957e+00\n",
      "   1.09749877e+01   1.23284674e+01   1.38488637e+01   1.55567614e+01\n",
      "   1.74752840e+01   1.96304065e+01   2.20513074e+01   2.47707636e+01\n",
      "   2.78255940e+01   3.12571585e+01   3.51119173e+01   3.94420606e+01\n",
      "   4.43062146e+01   4.97702356e+01   5.59081018e+01   6.28029144e+01\n",
      "   7.05480231e+01   7.92482898e+01   8.90215085e+01   1.00000000e+02]\n"
     ]
    }
   ],
   "source": [
    "nalpha = 100 # Number of alpha values we try to use to fit the model\n",
    "alphas = np.logspace(-3,2,nalpha) # 100 log spaced valued between 10^-3 to 10^2. \n",
    "print(alphas) "
   ]
  },
  {
   "cell_type": "code",
   "execution_count": 15,
   "metadata": {
    "collapsed": true
   },
   "outputs": [],
   "source": [
    "test_errors = []  # To store values of test errors for different alphas.\n",
    "for i in range(100):\n",
    "    model.alpha = alphas[i]\n",
    "    model.fit(X_tr,Y_tr)\n",
    "    pred = model.predict(X_test)\n",
    "    test_err = np.sum(np.square(Y_test - pred)) / (Y_test.shape[0])\n",
    "    test_errors.append(test_err)\n",
    "    if(i==99):\n",
    "        coeff = model.coef_\n",
    "        intercept = model.intercept_"
   ]
  },
  {
   "cell_type": "markdown",
   "metadata": {},
   "source": [
    "# Plotting Test Error v/s Alpha"
   ]
  },
  {
   "cell_type": "code",
   "execution_count": 16,
   "metadata": {},
   "outputs": [
    {
     "data": {
      "text/plain": [
       "[183.36760180322176,\n",
       " 183.3676207287045,\n",
       " 183.36764279634332,\n",
       " 183.36766760310726,\n",
       " 183.36769548275174,\n",
       " 183.36772681759015,\n",
       " 183.36776203816848,\n",
       " 183.36780162929594,\n",
       " 183.36784613703807,\n",
       " 183.36789617665428,\n",
       " 183.36795244161794,\n",
       " 183.36801571387218,\n",
       " 183.36808687551368,\n",
       " 183.36816692211667,\n",
       " 183.3682569779584,\n",
       " 183.36835831344254,\n",
       " 183.36847236507597,\n",
       " 183.368600758425,\n",
       " 183.36874533454733,\n",
       " 183.3689081805001,\n",
       " 183.36909166464108,\n",
       " 183.36929847758216,\n",
       " 183.369531679833,\n",
       " 183.36979475739076,\n",
       " 183.37009168679558,\n",
       " 183.3704270115047,\n",
       " 183.37080593184152,\n",
       " 183.37123441128696,\n",
       " 183.37171930249548,\n",
       " 183.37226849720892,\n",
       " 183.37289110519902,\n",
       " 183.3735976685784,\n",
       " 183.37440041932717,\n",
       " 183.37531358975883,\n",
       " 183.376353788,\n",
       " 183.3775404535,\n",
       " 183.3788964112738,\n",
       " 183.3804485481923,\n",
       " 183.38222864043888,\n",
       " 183.38414400313587,\n",
       " 183.38602236622214,\n",
       " 183.38813538850312,\n",
       " 183.3905651029102,\n",
       " 183.39336548225776,\n",
       " 183.39660083916425,\n",
       " 183.40034828537748,\n",
       " 183.40470058774704,\n",
       " 183.4097697081155,\n",
       " 183.41569120112132,\n",
       " 183.4226296860825,\n",
       " 183.4307834543248,\n",
       " 183.44040151221807,\n",
       " 183.45178185114594,\n",
       " 183.46529262539346,\n",
       " 183.48138692939546,\n",
       " 183.50062358273567,\n",
       " 183.52369322107816,\n",
       " 183.5514463755207,\n",
       " 183.58495251940528,\n",
       " 183.54847250091777,\n",
       " 183.49606718724345,\n",
       " 183.3690114473082,\n",
       " 183.2631977976564,\n",
       " 183.14615247741764,\n",
       " 183.0156906617654,\n",
       " 182.87032067646993,\n",
       " 182.70853603485568,\n",
       " 182.52868677740793,\n",
       " 182.32905184058495,\n",
       " 182.10783124573166,\n",
       " 181.8631284396626,\n",
       " 181.59305912017567,\n",
       " 181.29575533287684,\n",
       " 180.96944862943354,\n",
       " 180.612568900587,\n",
       " 180.22387788442836,\n",
       " 179.8026476934267,\n",
       " 179.34889739044496,\n",
       " 178.8637042079415,\n",
       " 178.34961052172028,\n",
       " 177.81115341182579,\n",
       " 177.2323407048089,\n",
       " 176.76252124186374,\n",
       " 176.3157148258274,\n",
       " 175.66781906559865,\n",
       " 175.05722719238886,\n",
       " 174.5206311646716,\n",
       " 174.10629159367232,\n",
       " 174.05030042591784,\n",
       " 174.59595151860927,\n",
       " 174.3427509116037,\n",
       " 173.66710649978268,\n",
       " 173.1259450255413,\n",
       " 172.7926100053017,\n",
       " 172.76482577147627,\n",
       " 173.17104402214892,\n",
       " 174.17932404319325,\n",
       " 174.52623848091028,\n",
       " 174.4902433857316,\n",
       " 174.4350972350582]"
      ]
     },
     "execution_count": 16,
     "metadata": {},
     "output_type": "execute_result"
    }
   ],
   "source": [
    "test_errors"
   ]
  },
  {
   "cell_type": "code",
   "execution_count": 12,
   "metadata": {},
   "outputs": [
    {
     "data": {
      "image/png": "[encoded data removed]",
      "text/plain": [
       "<matplotlib.figure.Figure at 0x115ac4a20>"
      ]
     },
     "metadata": {},
     "output_type": "display_data"
    }
   ],
   "source": [
    "plt.plot(alphas,test_errors,'-.',color='r')\n",
    "plt.xlabel('Alphas')\n",
    "plt.ylabel('Test_Errors')\n",
    "plt.grid()"
   ]
  },
  {
   "cell_type": "markdown",
   "metadata": {},
   "source": [
    "We see that the test cost is going down with increasing alpha. We can check this for even higher values of alpha but then we see that many more co-efficients will become 0 as you see below and our model will start loosing information. Also, it will lead to underfitting after some time."
   ]
  },
  {
   "cell_type": "code",
   "execution_count": 17,
   "metadata": {},
   "outputs": [
    {
     "name": "stdout",
     "output_type": "stream",
     "text": [
      "[ 0.00258652 -0.00147188 -0.          0.          0.         -0.0003324\n",
      " -0.0021946   0.00183295  0.00197916 -0.         -0.0011776   0.          0.\n",
      " -0.          0.         -0.00037339]\n",
      "41.6766986245\n"
     ]
    }
   ],
   "source": [
    "print(coeff)\n",
    "print(intercept)"
   ]
  },
  {
   "cell_type": "code",
   "execution_count": 18,
   "metadata": {},
   "outputs": [
    {
     "name": "stdout",
     "output_type": "stream",
     "text": [
      "Number of non-zero coefficients including the intercept is :\n",
      "9\n"
     ]
    }
   ],
   "source": [
    "non_zero_coeff = np.sum(coeff!=0)\n",
    "print(\"Number of non-zero coefficients including the intercept is :\")\n",
    "print(non_zero_coeff + 1)"
   ]
  },
  {
   "cell_type": "code",
   "execution_count": 15,
   "metadata": {},
   "outputs": [
    {
     "name": "stdout",
     "output_type": "stream",
     "text": [
      "172.764825771\n"
     ]
    }
   ],
   "source": [
    "print(np.min(test_errors))"
   ]
  }
 ],
 "metadata": {
  "kernelspec": {
   "display_name": "Python 3",
   "language": "python",
   "name": "python3"
  },
  "language_info": {
   "codemirror_mode": {
    "name": "ipython",
    "version": 3
   },
   "file_extension": ".py",
   "mimetype": "text/x-python",
   "name": "python",
   "nbconvert_exporter": "python",
   "pygments_lexer": "ipython3",
   "version": "3.6.3"
  }
 },
 "nbformat": 4,
 "nbformat_minor": 2
}
