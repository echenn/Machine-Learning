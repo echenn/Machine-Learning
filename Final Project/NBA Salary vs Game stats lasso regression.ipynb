{
 "cells": [
  {
   "cell_type": "code",
   "execution_count": 96,
   "metadata": {
    "collapsed": true
   },
   "outputs": [],
   "source": [
    "import numpy as np\n",
    "import matplotlib\n",
    "import pandas as pd\n",
    "import matplotlib.pyplot as plt\n",
    "from sklearn import datasets, linear_model, preprocessing\n",
    "import numpy.polynomial.polynomial as poly\n",
    "%matplotlib inline"
   ]
  },
  {
   "cell_type": "code",
   "execution_count": 97,
   "metadata": {
    "collapsed": true
   },
   "outputs": [],
   "source": [
    "#load datasets\n",
    "stats = pd.read_csv(\"datasets/nba_2017_players_stats.csv\") \n",
    "salary = pd.read_csv(\"datasets/nba_2017_salary.csv\")\n",
    "#merge data sets based on name, drop na values\n",
    "df1 = stats.merge(salary, on='NAME')\n",
    "df2 = df1.dropna(axis=1)\n",
    "#Features are Age, 3p, 2p, Fg%, MPG, FT%, AST, STL, BLK, Points\n",
    "df3 = df2[[\"AGE\", \"FG%\" , \"3P\", \n",
    "           \"2P\", \"TRB\", \"AST\", \n",
    "           \"STL\", \"BLK\", \"POINTS\", \n",
    "           \"MPG\"]]\n",
    "\n",
    "features = [\"AGE\",\"FG%\" , \"3P\", \"2P\", \"TRB\", \"AST\", \"STL\", \"BLK\", \"POINTS\", \"MPG\"]\n",
    "fAvg = []\n",
    "fMax = []\n",
    "fMin = []\n",
    "fRange = []\n",
    "for f in features:\n",
    "    fAvg.append(round(np.mean(df3[f]),2))\n",
    "for f in features:\n",
    "    fMax.append(round(np.amax(df3[f]),2))\n",
    "for f in features:\n",
    "    fMin.append(round(np.amin(df3[f]),2))\n",
    "for i in range(len(fMax)):\n",
    "    fRange.append(fMax[i] - fMin[i])\n",
    "  "
   ]
  },
  {
   "cell_type": "code",
   "execution_count": 98,
   "metadata": {},
   "outputs": [
    {
     "data": {
      "text/plain": [
       "'\\nfor i in range(0,342):\\n    x[i] = (x[i] - fAvg[j])/fRange[j]\\n'"
      ]
     },
     "execution_count": 98,
     "metadata": {},
     "output_type": "execute_result"
    }
   ],
   "source": [
    "#target vector\n",
    "y = np.array(df2[\"SALARY\"])\n",
    "y = y.reshape(y.shape[0],1)\n",
    "x = df3.values\n",
    "'''\n",
    "a=np.ones((y.shape[0],1))\n",
    "x=np.hstack((a , x))\n",
    "'''\n",
    "#transforming features\n",
    "'''\n",
    "for j in range(0,10):\n",
    "    for i in range(0,342):\n",
    "        x[i][j] = x[i][j] / fMax[j]\n",
    "'''\n",
    "\n",
    "#test and training splits\n",
    "X_tr = x[0:200]\n",
    "Y_tr = y[0:200]\n",
    "X_test = x[200:342]\n",
    "Y_test = y[200:342]\n",
    "'''\n",
    "for i in range(0,342):\n",
    "    x[i] = (x[i] - fAvg[j])/fRange[j]\n",
    "'''\n",
    "\n"
   ]
  },
  {
   "cell_type": "code",
   "execution_count": 99,
   "metadata": {},
   "outputs": [
    {
     "name": "stdout",
     "output_type": "stream",
     "text": [
      "9.67595976329e+12\n"
     ]
    }
   ],
   "source": [
    "regr = linear_model.LinearRegression()\n",
    "regr.fit(X_tr,Y_tr)\n",
    "predict = regr.predict(X_test) \n",
    "test_error = np.sum(np.square(Y_test - predict)) / (2 * Y_test.shape[0]) \n",
    "print(test_error)"
   ]
  },
  {
   "cell_type": "code",
   "execution_count": 100,
   "metadata": {
    "collapsed": true
   },
   "outputs": [],
   "source": [
    "model = linear_model.Lasso(warm_start=True, fit_intercept = True )\n",
    "nalpha = 100000 # Number of alpha values we try to use to fit the model\n",
    "alphas = np.logspace(-2,2,nalpha) # 100 log spaced valued between 10^-3 to 10^2. "
   ]
  },
  {
   "cell_type": "code",
   "execution_count": 101,
   "metadata": {},
   "outputs": [
    {
     "name": "stderr",
     "output_type": "stream",
     "text": [
      "/anaconda3/lib/python3.6/site-packages/sklearn/linear_model/coordinate_descent.py:491: ConvergenceWarning: Objective did not converge. You might want to increase the number of iterations. Fitting data with very small alpha may cause precision problems.\n",
      "  ConvergenceWarning)\n"
     ]
    }
   ],
   "source": [
    "test_errors = []  # To store values of test errors for different alphas.\n",
    "for i in range(100000):\n",
    "    model.alpha = alphas[i]\n",
    "    model.fit(X_tr,Y_tr)\n",
    "    pred = model.predict(X_test)\n",
    "    test_err = np.sum(np.square(Y_test - pred)) / (Y_test.shape[0])\n",
    "    test_errors.append(test_err)\n",
    "    if(i==99999):\n",
    "        coeff = model.coef_\n",
    "        intercept = model.intercept_"
   ]
  },
  {
   "cell_type": "code",
   "execution_count": 102,
   "metadata": {},
   "outputs": [
    {
     "data": {
      "text/plain": [
       "array([  595963.69215401, -1749524.05259402, -1380701.71549753,\n",
       "        -829834.78584923,   594508.2446043 ,  -130367.82937069,\n",
       "        1005996.55303999,  -536201.26587866,   868050.43753395,\n",
       "         -39409.30071071])"
      ]
     },
     "execution_count": 102,
     "metadata": {},
     "output_type": "execute_result"
    },
    {
     "data": {
      "image/png": "[encoded data removed]",
      "text/plain": [
       "<matplotlib.figure.Figure at 0x1a12fbb2b0>"
      ]
     },
     "metadata": {},
     "output_type": "display_data"
    }
   ],
   "source": [
    "plt.plot(alphas,test_errors,'-.',color='r')\n",
    "plt.xlabel('Alphas')\n",
    "plt.ylabel('Test_Errors')\n",
    "plt.grid()\n",
    "\n",
    "coeff"
   ]
  },
  {
   "cell_type": "code",
   "execution_count": 103,
   "metadata": {},
   "outputs": [],
   "source": [
    "a=np.ones((y.shape[0],1))\n",
    "x=np.hstack((a,x))\n",
    "beta = np.insert(coeff,0,intercept)"
   ]
  },
  {
   "cell_type": "code",
   "execution_count": 104,
   "metadata": {},
   "outputs": [],
   "source": [
    "\n",
    "def predict(x,beta):\n",
    "    yhat = np.dot(x,beta)\n",
    "    return yhat\n",
    "yhat = predict(x,beta)"
   ]
  },
  {
   "cell_type": "code",
   "execution_count": 105,
   "metadata": {
    "collapsed": true,
    "scrolled": true
   },
   "outputs": [],
   "source": [
    "#round values in predicted vectors\n",
    "yhat = np.around(yhat,decimals=-3)"
   ]
  },
  {
   "cell_type": "code",
   "execution_count": 106,
   "metadata": {},
   "outputs": [
    {
     "data": {
      "image/png": "[encoded data removed]",
      "text/plain": [
       "<matplotlib.figure.Figure at 0x102d3fc88>"
      ]
     },
     "metadata": {},
     "output_type": "display_data"
    }
   ],
   "source": [
    "#plot predicted values and y to see simiarities\n",
    "x = np.arange(0,y.shape[0])\n",
    "plt.scatter(x,y,color ='red',s=8)\n",
    "#plt.scatter(y,yhat,color ='blue',s=8)\n",
    "plt.scatter(x,yhat, color='blue',s=8)\n",
    "plt.ylabel(\"Salaries\")\n",
    "plt.xlabel(\"\")\n",
    "plt.title(\"Original salaries(red)  Predicted Salaries(blue)\")\n",
    "plt.show()"
   ]
  },
  {
   "cell_type": "code",
   "execution_count": 107,
   "metadata": {},
   "outputs": [
    {
     "name": "stdout",
     "output_type": "stream",
     "text": [
      "0.554261944609\n"
     ]
    }
   ],
   "source": [
    "#Calculating R^2\n",
    "def calculateR2(y,yhat):\n",
    "    ym = np.mean(y)\n",
    "    rss = np.sum((y-yhat)**2)\n",
    "    ess = np.sum((yhat-ym)**2)\n",
    "    tss = np.sum((y-ym)**2)\n",
    "    return ess/tss #R^2\n",
    "\n",
    "rsq1 = calculateR2(y,yhat)\n",
    "print(rsq1) "
   ]
  },
  {
   "cell_type": "code",
   "execution_count": 77,
   "metadata": {},
   "outputs": [
    {
     "name": "stdout",
     "output_type": "stream",
     "text": [
      "24701000.0 -1710000.0\n"
     ]
    }
   ],
   "source": [
    "#Min and max values for predicted set\n",
    "yhatmax = np.amax(yhat) #25264000\n",
    "yhatmin = np.amin(yhat) #-1231000\n",
    "print(yhatmax,yhatmin)"
   ]
  },
  {
   "cell_type": "code",
   "execution_count": null,
   "metadata": {
    "collapsed": true
   },
   "outputs": [],
   "source": []
  },
  {
   "cell_type": "code",
   "execution_count": null,
   "metadata": {
    "collapsed": true
   },
   "outputs": [],
   "source": []
  }
 ],
 "metadata": {
  "kernelspec": {
   "display_name": "Python 3",
   "language": "python",
   "name": "python3"
  },
  "language_info": {
   "codemirror_mode": {
    "name": "ipython",
    "version": 3
   },
   "file_extension": ".py",
   "mimetype": "text/x-python",
   "name": "python",
   "nbconvert_exporter": "python",
   "pygments_lexer": "ipython3",
   "version": "3.6.3"
  }
 },
 "nbformat": 4,
 "nbformat_minor": 2
}
