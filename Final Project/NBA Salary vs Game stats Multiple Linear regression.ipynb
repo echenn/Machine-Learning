{
 "cells": [
  {
   "cell_type": "code",
   "execution_count": 94,
   "metadata": {
    "collapsed": true
   },
   "outputs": [],
   "source": [
    "import numpy as np\n",
    "import pandas as pd"
   ]
  },
  {
   "cell_type": "code",
   "execution_count": 217,
   "metadata": {},
   "outputs": [
    {
     "data": {
      "text/plain": [
       "[40,\n",
       " 0.75,\n",
       " 12.800000000000001,\n",
       " 11.199999999999999,\n",
       " 2.0,\n",
       " 2.6000000000000001,\n",
       " 31.600000000000001,\n",
       " 37.799999999999997]"
      ]
     },
     "execution_count": 217,
     "metadata": {},
     "output_type": "execute_result"
    }
   ],
   "source": [
    "#load datasets\n",
    "stats = pd.read_csv(\"datasets/nba_2017_players_stats.csv\") \n",
    "salary = pd.read_csv(\"datasets/nba_2017_salary.csv\")\n",
    "#merge data sets based on name, drop na values\n",
    "df1 = stats.merge(salary, on='NAME')\n",
    "df2 = df1.dropna(axis=1)\n",
    "#Features are Age, 3p, 2p, Fg%, MPG, FT%, AST, STL, BLK, Points\n",
    "df3 = df2[[\"AGE\", \"FG%\" , \"3P\", \n",
    "           \"2P\", \"TRB\", \"AST\", \n",
    "           \"STL\", \"BLK\", \"POINTS\", \n",
    "           \"MPG\"]]\n",
    "\n",
    "features = [\"AGE\",\"FG%\" , \"3P\", \"2P\", \"TRB\", \"AST\", \"STL\", \"BLK\", \"POINTS\", \"MPG\"]\n",
    "fAvg = []\n",
    "fMax = []\n",
    "fMin = []\n",
    "fRange = []\n",
    "for f in features:\n",
    "    fAvg.append(round(np.mean(df3[f]),2))\n",
    "for f in features:\n",
    "    fMax.append(round(np.amax(df3[f]),2))\n",
    "for f in features:\n",
    "    fMin.append(round(np.amin(df3[f]),2))\n",
    "for i in range(len(fMax)):\n",
    "    fRange.append(fMax[i] - fMin[i])\n",
    "  "
   ]
  },
  {
   "cell_type": "code",
   "execution_count": 248,
   "metadata": {},
   "outputs": [],
   "source": [
    "#feature matrix with column of 1s\n",
    "x = df3.values\n",
    "#target vector\n",
    "y = np.array(df2[\"SALARY\"])\n",
    "y = y.reshape(y.shape[0],1)\n",
    "#transform Features\n",
    "\n",
    "'''\n",
    "for i in range(0,342):\n",
    "    x[i] = (x[i] - fAvg[j])/fRange[j]\n",
    "\n",
    "\n",
    "for i in range(0,342):\n",
    "    x[i][0] = x[i][0] / fMax[0]\n",
    "'''\n",
    "  \n",
    "a=np.ones((y.shape[0],1))\n",
    "x=np.hstack((a , x))\n",
    "\n"
   ]
  },
  {
   "cell_type": "code",
   "execution_count": 249,
   "metadata": {
    "collapsed": true
   },
   "outputs": [],
   "source": [
    "#cost function for gradient descent\n",
    "def compute_cost(x, y, beta, n):\n",
    "    \n",
    "    cost=np.sum((np.dot(x,beta)-y) ** 2)/(2*n)\n",
    "    \n",
    "    return cost"
   ]
  },
  {
   "cell_type": "code",
   "execution_count": 250,
   "metadata": {
    "collapsed": true
   },
   "outputs": [],
   "source": [
    "#gradient descent to optimize regression\n",
    "def gradient_descent(x , y , learning_rate , beta , n , num_iters):\n",
    "    for i in range(num_iters):\n",
    "        # derivative vector is given by : X_train.Transpose *  (( X_train * betavector)- y ) \n",
    "        temp =   beta - (learning_rate/n) * np.dot(x.transpose(), (np.dot(x , beta)-y))\n",
    "        beta = temp\n",
    "        cost= compute_cost(x , y , beta , n)\n",
    "             \n",
    "            \n",
    "            \n",
    "    return beta"
   ]
  },
  {
   "cell_type": "code",
   "execution_count": 251,
   "metadata": {
    "collapsed": true
   },
   "outputs": [],
   "source": [
    "#multiple regression gradient descent\n",
    "def multiple_linear_reg_model_gda(x , y , n , learning_rate , num_iters):\n",
    "    #initialize paramaters\n",
    "    beta= np.zeros((x.shape[1],1))\n",
    "    \n",
    "    #compute cost\n",
    "    initial_cost=compute_cost(x , y , beta , n)\n",
    "    #gradient descent\n",
    "    beta= gradient_descent(x , y , learning_rate , beta , n , num_iters)\n",
    "    \n",
    "    final_cost=compute_cost(x , y , beta , n)\n",
    "    return beta"
   ]
  },
  {
   "cell_type": "code",
   "execution_count": 252,
   "metadata": {},
   "outputs": [
    {
     "data": {
      "text/plain": [
       "array([[-10035782.9154067 ],\n",
       "       [   451983.99610885],\n",
       "       [ -3452997.84461063],\n",
       "       [   559833.90431817],\n",
       "       [   338527.3786842 ],\n",
       "       [  -433176.64421417],\n",
       "       [  -191883.99917603],\n",
       "       [   501148.2370944 ],\n",
       "       [   -13589.91323928]])"
      ]
     },
     "execution_count": 252,
     "metadata": {},
     "output_type": "execute_result"
    }
   ],
   "source": [
    "learning_rate=0.001\n",
    "num_iters=100000\n",
    "# In place of None, call the multiple_linear_reg_model_gda.\n",
    "n = y.shape[0]\n",
    "beta = multiple_linear_reg_model_gda( x , y , n , learning_rate , num_iters)\n",
    "beta"
   ]
  },
  {
   "cell_type": "code",
   "execution_count": 253,
   "metadata": {},
   "outputs": [
    {
     "data": {
      "text/plain": [
       "array([[ -1.15925480e+07],\n",
       "       [  4.82569033e+05],\n",
       "       [ -1.96720882e+06],\n",
       "       [  5.32471380e+05],\n",
       "       [  3.30942135e+05],\n",
       "       [ -4.12254657e+05],\n",
       "       [ -1.77410571e+05],\n",
       "       [  4.97479770e+05],\n",
       "       [ -4.37267541e+03]])"
      ]
     },
     "execution_count": 253,
     "metadata": {},
     "output_type": "execute_result"
    }
   ],
   "source": [
    "#getting betas with the normal equation method. Our beta vector and\n",
    "#the beta vector from the normal equation method should be similar\n",
    "q = np.linalg.inv(np.dot(x.T,x))\n",
    "w = np.dot(x.T,y)\n",
    "beta_vec = np.dot(q,w)\n",
    "beta_vec"
   ]
  },
  {
   "cell_type": "code",
   "execution_count": 254,
   "metadata": {
    "collapsed": true
   },
   "outputs": [],
   "source": [
    "#function to predict salary based on parameters\n",
    "def predict(x,beta):\n",
    "    yhat = np.dot(x,beta)\n",
    "    return yhat\n",
    "yhat = predict(x,beta)\n",
    "yhatNormalMethod = predict(x,beta_vec)"
   ]
  },
  {
   "cell_type": "code",
   "execution_count": 255,
   "metadata": {
    "collapsed": true,
    "scrolled": true
   },
   "outputs": [],
   "source": [
    "#round values in predicted vectors\n",
    "yhat = np.around(yhat,decimals=-3)\n",
    "yhatNormalMethod = np.around(yhatNormalMethod,decimals=-3)"
   ]
  },
  {
   "cell_type": "code",
   "execution_count": 256,
   "metadata": {},
   "outputs": [
    {
     "data": {
      "image/png": "[encoded data removed]",
      "text/plain": [
       "<matplotlib.figure.Figure at 0x115a099e8>"
      ]
     },
     "metadata": {},
     "output_type": "display_data"
    }
   ],
   "source": [
    "#plot predicted values and y to see simiarities\n",
    "import matplotlib.pyplot as plt\n",
    "x = np.arange(0,y.shape[0])\n",
    "plt.scatter(x,y,color ='red',s=8)\n",
    "#plt.scatter(y,yhat,color ='blue',s=8)\n",
    "plt.scatter(x,yhatNormalMethod, color='blue',s=8)\n",
    "plt.ylabel(\"Salaries\")\n",
    "plt.xlabel(\"\")\n",
    "plt.title(\"Divide Each Feature By Avg \")\n",
    "plt.show()"
   ]
  },
  {
   "cell_type": "code",
   "execution_count": 257,
   "metadata": {},
   "outputs": [
    {
     "name": "stdout",
     "output_type": "stream",
     "text": [
      "0.516115265969\n",
      "0.535697633348\n"
     ]
    }
   ],
   "source": [
    "#Calculating R^2\n",
    "def calculateR2(y,yhat):\n",
    "    ym = np.mean(y)\n",
    "    rss = np.sum((y-yhat)**2)\n",
    "    ess = np.sum((yhat-ym)**2)\n",
    "    tss = np.sum((y-ym)**2)\n",
    "    return ess/tss #R^2\n",
    "\n",
    "rsq1 = calculateR2(y,yhat)\n",
    "rsq2 = calculateR2(y,yhatNormalMethod)\n",
    "print(rsq1) #0.516521578282\n",
    "print(rsq2) #0.537377866618"
   ]
  },
  {
   "cell_type": "code",
   "execution_count": 258,
   "metadata": {},
   "outputs": [
    {
     "name": "stdout",
     "output_type": "stream",
     "text": [
      "25259000.0 -1202000.0\n"
     ]
    }
   ],
   "source": [
    "#Min and max values for predicted set\n",
    "yhatmax = np.amax(yhat) #25264000\n",
    "yhatmin = np.amin(yhat) #-1231000\n",
    "print(yhatmax,yhatmin)"
   ]
  },
  {
   "cell_type": "code",
   "execution_count": null,
   "metadata": {},
   "outputs": [],
   "source": []
  },
  {
   "cell_type": "code",
   "execution_count": null,
   "metadata": {
    "collapsed": true
   },
   "outputs": [],
   "source": []
  }
 ],
 "metadata": {
  "kernelspec": {
   "display_name": "Python 3",
   "language": "python",
   "name": "python3"
  },
  "language_info": {
   "codemirror_mode": {
    "name": "ipython",
    "version": 3
   },
   "file_extension": ".py",
   "mimetype": "text/x-python",
   "name": "python",
   "nbconvert_exporter": "python",
   "pygments_lexer": "ipython3",
   "version": "3.6.3"
  }
 },
 "nbformat": 4,
 "nbformat_minor": 2
}
